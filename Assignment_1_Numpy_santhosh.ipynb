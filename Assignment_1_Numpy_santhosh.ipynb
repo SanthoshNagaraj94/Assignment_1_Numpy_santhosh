{
  "nbformat": 4,
  "nbformat_minor": 0,
  "metadata": {
    "kernelspec": {
      "display_name": "Python 3",
      "language": "python",
      "name": "python3"
    },
    "language_info": {
      "codemirror_mode": {
        "name": "ipython",
        "version": 3
      },
      "file_extension": ".py",
      "mimetype": "text/x-python",
      "name": "python",
      "nbconvert_exporter": "python",
      "pygments_lexer": "ipython3",
      "version": "3.8.3"
    },
    "colab": {
      "name": "Assignment_1_Numpy_santhosh.ipynb",
      "provenance": [],
      "include_colab_link": true
    }
  },
  "cells": [
    {
      "cell_type": "markdown",
      "metadata": {
        "id": "view-in-github",
        "colab_type": "text"
      },
      "source": [
        "<a href=\"https://colab.research.google.com/github/SanthoshNagaraj94/Assignment_1_Numpy_santhosh/blob/main/Assignment_1_Numpy_santhosh.ipynb\" target=\"_parent\"><img src=\"https://colab.research.google.com/assets/colab-badge.svg\" alt=\"Open In Colab\"/></a>"
      ]
    },
    {
      "cell_type": "markdown",
      "metadata": {
        "id": "Pl44vOSejzrz"
      },
      "source": [
        "# Numpy\n",
        "\n"
      ]
    },
    {
      "cell_type": "markdown",
      "metadata": {
        "id": "7wzSgw5-jzr8"
      },
      "source": [
        "#### 1. Import the numpy package under the name `np` (★☆☆) \n",
        "(**hint**: import … as …)"
      ]
    },
    {
      "cell_type": "code",
      "metadata": {
        "collapsed": true,
        "id": "9INPe1lDjzr9"
      },
      "source": [
        "import numpy as np"
      ],
      "execution_count": 2,
      "outputs": []
    },
    {
      "cell_type": "markdown",
      "metadata": {
        "id": "ZrVPLnVtjzr-"
      },
      "source": [
        "#### 2. Print the numpy version and the configuration (★☆☆) \n",
        "(**hint**: np.\\_\\_version\\_\\_, np.show\\_config)"
      ]
    },
    {
      "cell_type": "code",
      "metadata": {
        "colab": {
          "base_uri": "https://localhost:8080/",
          "height": 35
        },
        "id": "FcXepdiAjzr_",
        "outputId": "9fcf2c6d-329a-4f6d-e85f-122ba22ef9ee"
      },
      "source": [
        "np.__version__"
      ],
      "execution_count": 3,
      "outputs": [
        {
          "output_type": "execute_result",
          "data": {
            "application/vnd.google.colaboratory.intrinsic+json": {
              "type": "string"
            },
            "text/plain": [
              "'1.19.5'"
            ]
          },
          "metadata": {},
          "execution_count": 3
        }
      ]
    },
    {
      "cell_type": "markdown",
      "metadata": {
        "id": "KPxvHNO1jzr_"
      },
      "source": [
        "#### 3. Create a null vector of size 10 (★☆☆) \n",
        "(**hint**: np.zeros)"
      ]
    },
    {
      "cell_type": "code",
      "metadata": {
        "colab": {
          "base_uri": "https://localhost:8080/"
        },
        "id": "FfqmxGFmjzsA",
        "outputId": "c54bfc1b-c424-448d-e99f-93772aeacb8e"
      },
      "source": [
        "x=np.zeros(10,int)\n",
        "x"
      ],
      "execution_count": 4,
      "outputs": [
        {
          "output_type": "execute_result",
          "data": {
            "text/plain": [
              "array([0, 0, 0, 0, 0, 0, 0, 0, 0, 0])"
            ]
          },
          "metadata": {},
          "execution_count": 4
        }
      ]
    },
    {
      "cell_type": "markdown",
      "metadata": {
        "id": "CsZ0j5vSjzsA"
      },
      "source": [
        "#### 4.  How to find the memory size of any array (★☆☆) \n",
        "(**hint**: size, itemsize)"
      ]
    },
    {
      "cell_type": "code",
      "metadata": {
        "colab": {
          "base_uri": "https://localhost:8080/"
        },
        "id": "3r15LETWjzsB",
        "outputId": "4f7b82e6-6d02-45eb-a8a9-e1dca6a35b74"
      },
      "source": [
        "x.itemsize"
      ],
      "execution_count": 5,
      "outputs": [
        {
          "output_type": "execute_result",
          "data": {
            "text/plain": [
              "8"
            ]
          },
          "metadata": {},
          "execution_count": 5
        }
      ]
    },
    {
      "cell_type": "markdown",
      "metadata": {
        "id": "JL9h25t_jzsC"
      },
      "source": [
        "#### 5.  How to get the documentation of the numpy add function from the command line? (★☆☆) \n",
        "(**hint**: np.info)"
      ]
    },
    {
      "cell_type": "code",
      "metadata": {
        "collapsed": true,
        "id": "0_WOmc1xjzsD"
      },
      "source": [
        "np.info(np.add)\n"
      ],
      "execution_count": 6,
      "outputs": []
    },
    {
      "cell_type": "markdown",
      "metadata": {
        "id": "kVUYU-NXjzsD"
      },
      "source": [
        "#### 6.  Create a null vector of size 10 but the fifth value which is 1 (★☆☆) \n",
        "(**hint**: array\\[4\\])"
      ]
    },
    {
      "cell_type": "markdown",
      "metadata": {
        "id": "sL1hzvcJng6K"
      },
      "source": [
        "method-1"
      ]
    },
    {
      "cell_type": "code",
      "metadata": {
        "colab": {
          "base_uri": "https://localhost:8080/"
        },
        "id": "HuZsp2j0jzsE",
        "outputId": "956420fd-3e35-47d2-f9a3-620cfd73bc5c"
      },
      "source": [
        "x=np.zeros(10, int)\n",
        "x[4]=1\n",
        "x"
      ],
      "execution_count": 7,
      "outputs": [
        {
          "output_type": "execute_result",
          "data": {
            "text/plain": [
              "array([0, 0, 0, 0, 1, 0, 0, 0, 0, 0])"
            ]
          },
          "metadata": {},
          "execution_count": 7
        }
      ]
    },
    {
      "cell_type": "markdown",
      "metadata": {
        "id": "U_krn23Wnrbj"
      },
      "source": [
        "method-2"
      ]
    },
    {
      "cell_type": "code",
      "metadata": {
        "colab": {
          "base_uri": "https://localhost:8080/"
        },
        "id": "pzGL0z0NngMj",
        "outputId": "8b76e34e-c36c-482a-dff8-9fb3378efc4c"
      },
      "source": [
        "y=np.arange(10)*0\n",
        "y[4]=1\n",
        "y"
      ],
      "execution_count": 8,
      "outputs": [
        {
          "output_type": "execute_result",
          "data": {
            "text/plain": [
              "array([0, 0, 0, 0, 1, 0, 0, 0, 0, 0])"
            ]
          },
          "metadata": {},
          "execution_count": 8
        }
      ]
    },
    {
      "cell_type": "markdown",
      "metadata": {
        "id": "zhRgwZ6ZjzsE"
      },
      "source": [
        "#### 7.  Create a vector with values ranging from 10 to 49 (★☆☆) \n",
        "(**hint**: np.arange)"
      ]
    },
    {
      "cell_type": "code",
      "metadata": {
        "colab": {
          "base_uri": "https://localhost:8080/"
        },
        "id": "zpD6SMEGjzsF",
        "outputId": "53ee2ba1-c401-4f4d-9b11-f1947623f631"
      },
      "source": [
        "a=np.arange(10,50)\n",
        "a"
      ],
      "execution_count": 9,
      "outputs": [
        {
          "output_type": "execute_result",
          "data": {
            "text/plain": [
              "array([10, 11, 12, 13, 14, 15, 16, 17, 18, 19, 20, 21, 22, 23, 24, 25, 26,\n",
              "       27, 28, 29, 30, 31, 32, 33, 34, 35, 36, 37, 38, 39, 40, 41, 42, 43,\n",
              "       44, 45, 46, 47, 48, 49])"
            ]
          },
          "metadata": {},
          "execution_count": 9
        }
      ]
    },
    {
      "cell_type": "markdown",
      "metadata": {
        "id": "SPz1RDN4jzsF"
      },
      "source": [
        "#### 8.  Reverse a vector (first element becomes last) (★☆☆) \n",
        "(**hint**: array\\[::-1\\])"
      ]
    },
    {
      "cell_type": "code",
      "metadata": {
        "colab": {
          "base_uri": "https://localhost:8080/"
        },
        "id": "yEWv9EHOjzsF",
        "outputId": "4af0f8a0-e127-4bc2-8d44-63f139248035"
      },
      "source": [
        "a[::-1]"
      ],
      "execution_count": 10,
      "outputs": [
        {
          "output_type": "execute_result",
          "data": {
            "text/plain": [
              "array([49, 48, 47, 46, 45, 44, 43, 42, 41, 40, 39, 38, 37, 36, 35, 34, 33,\n",
              "       32, 31, 30, 29, 28, 27, 26, 25, 24, 23, 22, 21, 20, 19, 18, 17, 16,\n",
              "       15, 14, 13, 12, 11, 10])"
            ]
          },
          "metadata": {},
          "execution_count": 10
        }
      ]
    },
    {
      "cell_type": "markdown",
      "metadata": {
        "id": "Vjus4csIjzsG"
      },
      "source": [
        "#### 9.  Create a 3x3 matrix with values ranging from 0 to 8 (★☆☆) \n",
        "(**hint**: reshape)"
      ]
    },
    {
      "cell_type": "code",
      "metadata": {
        "colab": {
          "base_uri": "https://localhost:8080/"
        },
        "id": "XZtPyfnDjzsG",
        "outputId": "842cb893-c2b3-481a-fa5a-e7f62aad917d"
      },
      "source": [
        "c=np.arange(0,9)\n",
        "c.reshape(3,3)"
      ],
      "execution_count": 11,
      "outputs": [
        {
          "output_type": "execute_result",
          "data": {
            "text/plain": [
              "array([[0, 1, 2],\n",
              "       [3, 4, 5],\n",
              "       [6, 7, 8]])"
            ]
          },
          "metadata": {},
          "execution_count": 11
        }
      ]
    },
    {
      "cell_type": "markdown",
      "metadata": {
        "id": "ZtXblIoLjzsH"
      },
      "source": [
        "#### 10. Find indices of non-zero elements from \\[1,2,0,0,4,0\\] (★☆☆) \n",
        "(**hint**: np.nonzero)"
      ]
    },
    {
      "cell_type": "code",
      "metadata": {
        "colab": {
          "base_uri": "https://localhost:8080/"
        },
        "id": "FNSU9rxmjzsH",
        "outputId": "17363518-6ab2-4ba7-e344-079d992c4092"
      },
      "source": [
        "x=np.array([1,2,0,0,4,0])\n",
        "np.nonzero(x)"
      ],
      "execution_count": 12,
      "outputs": [
        {
          "output_type": "execute_result",
          "data": {
            "text/plain": [
              "(array([0, 1, 4]),)"
            ]
          },
          "metadata": {},
          "execution_count": 12
        }
      ]
    },
    {
      "cell_type": "markdown",
      "metadata": {
        "id": "Em_eXiA6jzsH"
      },
      "source": [
        "#### 11. Create a 3x3 identity matrix (★☆☆) \n",
        "(**hint**: np.eye)"
      ]
    },
    {
      "cell_type": "markdown",
      "metadata": {
        "id": "TyliFhqKrvzE"
      },
      "source": [
        "method-1"
      ]
    },
    {
      "cell_type": "code",
      "metadata": {
        "colab": {
          "base_uri": "https://localhost:8080/"
        },
        "id": "t7genf5HjzsI",
        "outputId": "7c12317b-cff2-4709-991d-6555a7a0077e"
      },
      "source": [
        "np.eye(3)"
      ],
      "execution_count": 13,
      "outputs": [
        {
          "output_type": "execute_result",
          "data": {
            "text/plain": [
              "array([[1., 0., 0.],\n",
              "       [0., 1., 0.],\n",
              "       [0., 0., 1.]])"
            ]
          },
          "metadata": {},
          "execution_count": 13
        }
      ]
    },
    {
      "cell_type": "markdown",
      "metadata": {
        "id": "6fVaIi2mryrK"
      },
      "source": [
        "method-2"
      ]
    },
    {
      "cell_type": "code",
      "metadata": {
        "colab": {
          "base_uri": "https://localhost:8080/"
        },
        "id": "USxmRjp-rrP2",
        "outputId": "c52d8f4e-d453-4ffb-ade5-64bffd581b2d"
      },
      "source": [
        "np.identity(3)"
      ],
      "execution_count": 14,
      "outputs": [
        {
          "output_type": "execute_result",
          "data": {
            "text/plain": [
              "array([[1., 0., 0.],\n",
              "       [0., 1., 0.],\n",
              "       [0., 0., 1.]])"
            ]
          },
          "metadata": {},
          "execution_count": 14
        }
      ]
    },
    {
      "cell_type": "markdown",
      "metadata": {
        "id": "ZGUKBfc7jzsI"
      },
      "source": [
        "#### 12. Create a 3x3x3 array with random values (★☆☆) \n",
        "(**hint**: np.random.random)"
      ]
    },
    {
      "cell_type": "code",
      "metadata": {
        "collapsed": true,
        "colab": {
          "base_uri": "https://localhost:8080/"
        },
        "id": "e9Y3PyKcjzsI",
        "outputId": "e4d7f273-bef5-435c-9ee1-e6a6628c9bfd"
      },
      "source": [
        "x=np.random.random(27)\n",
        "x.reshape(3,3,3)"
      ],
      "execution_count": 15,
      "outputs": [
        {
          "output_type": "execute_result",
          "data": {
            "text/plain": [
              "array([[[0.69881107, 0.73329593, 0.99495826],\n",
              "        [0.64079214, 0.1274964 , 0.90845681],\n",
              "        [0.26794692, 0.23730953, 0.24938685]],\n",
              "\n",
              "       [[0.66212304, 0.79876453, 0.15977721],\n",
              "        [0.78261251, 0.10260515, 0.22632578],\n",
              "        [0.26956917, 0.35138564, 0.00906208]],\n",
              "\n",
              "       [[0.74655225, 0.43448365, 0.59502555],\n",
              "        [0.11376859, 0.34700863, 0.64828058],\n",
              "        [0.37432852, 0.0153703 , 0.48043425]]])"
            ]
          },
          "metadata": {},
          "execution_count": 15
        }
      ]
    },
    {
      "cell_type": "markdown",
      "metadata": {
        "id": "wnwTwEeqjzsJ"
      },
      "source": [
        "#### 13. Create a 10x10 array with random values and find the minimum and maximum values (★☆☆) \n",
        "(**hint**: min, max)"
      ]
    },
    {
      "cell_type": "code",
      "metadata": {
        "colab": {
          "base_uri": "https://localhost:8080/"
        },
        "id": "FwQf_52pjzsJ",
        "outputId": "b7d7b24a-a592-488c-d9df-bbd86a6ea522"
      },
      "source": [
        "a=np.random.random(100)\n",
        "a.reshape(10,10)\n"
      ],
      "execution_count": 16,
      "outputs": [
        {
          "output_type": "execute_result",
          "data": {
            "text/plain": [
              "array([[0.30955624, 0.91436041, 0.43386854, 0.4348936 , 0.78879132,\n",
              "        0.95956291, 0.44717004, 0.74503319, 0.24188269, 0.79867265],\n",
              "       [0.46009332, 0.55726979, 0.04765438, 0.71503498, 0.16522128,\n",
              "        0.92828959, 0.89159083, 0.94469168, 0.41631822, 0.32054525],\n",
              "       [0.05656581, 0.29432449, 0.52131899, 0.40688578, 0.53794047,\n",
              "        0.1263415 , 0.05204243, 0.25894779, 0.97185151, 0.46108966],\n",
              "       [0.74934146, 0.80796525, 0.19360013, 0.57239705, 0.05422971,\n",
              "        0.91244328, 0.82609767, 0.2045578 , 0.36312357, 0.35922636],\n",
              "       [0.395482  , 0.92483788, 0.61727709, 0.81768193, 0.12040064,\n",
              "        0.01040013, 0.1521669 , 0.08144097, 0.26394448, 0.284269  ],\n",
              "       [0.58962002, 0.62750359, 0.01907382, 0.72884592, 0.72909293,\n",
              "        0.92264351, 0.46885611, 0.14356482, 0.72563128, 0.78431119],\n",
              "       [0.6744697 , 0.38640528, 0.55121897, 0.27065398, 0.58328146,\n",
              "        0.84625437, 0.61760266, 0.78848717, 0.02874598, 0.47752424],\n",
              "       [0.21665667, 0.59213578, 0.01095253, 0.9804791 , 0.30641971,\n",
              "        0.02462134, 0.77891626, 0.8058244 , 0.56603632, 0.89184029],\n",
              "       [0.66081838, 0.49072369, 0.13874955, 0.18903654, 0.99660352,\n",
              "        0.04406254, 0.41624351, 0.29610961, 0.82042328, 0.82721715],\n",
              "       [0.25634886, 0.56088181, 0.61600229, 0.69233598, 0.72022743,\n",
              "        0.19015238, 0.57373698, 0.2376758 , 0.8603341 , 0.74000368]])"
            ]
          },
          "metadata": {},
          "execution_count": 16
        }
      ]
    },
    {
      "cell_type": "code",
      "metadata": {
        "colab": {
          "base_uri": "https://localhost:8080/"
        },
        "id": "1CS3qMUrtQUk",
        "outputId": "59d11a9c-d9bd-44b1-e89f-6d1b01326d0e"
      },
      "source": [
        "a.min()"
      ],
      "execution_count": 17,
      "outputs": [
        {
          "output_type": "execute_result",
          "data": {
            "text/plain": [
              "0.010400132069884993"
            ]
          },
          "metadata": {},
          "execution_count": 17
        }
      ]
    },
    {
      "cell_type": "code",
      "metadata": {
        "colab": {
          "base_uri": "https://localhost:8080/"
        },
        "id": "6hZEiGpBtUqh",
        "outputId": "5908845d-3bc1-4491-8c8d-1ee31b515bfe"
      },
      "source": [
        "a.max()"
      ],
      "execution_count": 18,
      "outputs": [
        {
          "output_type": "execute_result",
          "data": {
            "text/plain": [
              "0.9966035200737038"
            ]
          },
          "metadata": {},
          "execution_count": 18
        }
      ]
    },
    {
      "cell_type": "markdown",
      "metadata": {
        "id": "ciV5GAU8jzsJ"
      },
      "source": [
        "#### 14. Create a random vector of size 30 and find the mean value (★☆☆) \n",
        "(**hint**: mean)"
      ]
    },
    {
      "cell_type": "code",
      "metadata": {
        "colab": {
          "base_uri": "https://localhost:8080/"
        },
        "id": "DP1F59hwjzsJ",
        "outputId": "c2c6aff0-0746-4058-ab21-b88ee94552c6"
      },
      "source": [
        "a=np.random.random(30)\n",
        "a"
      ],
      "execution_count": 19,
      "outputs": [
        {
          "output_type": "execute_result",
          "data": {
            "text/plain": [
              "array([0.60059563, 0.60199352, 0.26658229, 0.41389576, 0.76848064,\n",
              "       0.89565249, 0.77257342, 0.64396855, 0.1278969 , 0.2725682 ,\n",
              "       0.08244866, 0.13070015, 0.61764637, 0.08011032, 0.15908224,\n",
              "       0.41355058, 0.87672253, 0.99972254, 0.67697027, 0.94866493,\n",
              "       0.45384236, 0.31740582, 0.78623044, 0.80132422, 0.26688236,\n",
              "       0.6796143 , 0.68669079, 0.87360408, 0.42376894, 0.91805447])"
            ]
          },
          "metadata": {},
          "execution_count": 19
        }
      ]
    },
    {
      "cell_type": "code",
      "metadata": {
        "colab": {
          "base_uri": "https://localhost:8080/"
        },
        "id": "NvvnB2wDuoQD",
        "outputId": "7355a37c-792a-4c32-c4d2-7fcff9daa38e"
      },
      "source": [
        "a.mean()"
      ],
      "execution_count": 20,
      "outputs": [
        {
          "output_type": "execute_result",
          "data": {
            "text/plain": [
              "0.5519081263702229"
            ]
          },
          "metadata": {},
          "execution_count": 20
        }
      ]
    },
    {
      "cell_type": "markdown",
      "metadata": {
        "id": "u0qlN2YgjzsJ"
      },
      "source": [
        "#### 15. Create a 2d array with 1 on the border and 0 inside (★☆☆) \n",
        "(**hint**: array\\[1:-1, 1:-1\\])"
      ]
    },
    {
      "cell_type": "code",
      "metadata": {
        "id": "HX2nd9aejzsK",
        "colab": {
          "base_uri": "https://localhost:8080/"
        },
        "outputId": "d5a67921-f2e5-4355-cad3-1b427476c2a1"
      },
      "source": [
        "a=np.ones(10,int)\n",
        "a[1:-1]=0\n",
        "a"
      ],
      "execution_count": 21,
      "outputs": [
        {
          "output_type": "execute_result",
          "data": {
            "text/plain": [
              "array([1, 0, 0, 0, 0, 0, 0, 0, 0, 1])"
            ]
          },
          "metadata": {},
          "execution_count": 21
        }
      ]
    },
    {
      "cell_type": "markdown",
      "metadata": {
        "id": "xb9GmWj1jzsK"
      },
      "source": [
        "#### 16. How to add a border (filled with 0's) around an existing array? (★☆☆) \n",
        "(**hint**: np.pad)"
      ]
    },
    {
      "cell_type": "code",
      "metadata": {
        "id": "1SoT9DBLjzsK",
        "colab": {
          "base_uri": "https://localhost:8080/"
        },
        "outputId": "ea5d79c8-dacd-4097-fc29-07cc487a1545"
      },
      "source": [
        "a=np.zeros(11,int)\n",
        "a = np.pad(a, pad_width=1, mode='constant', constant_values=1)\n",
        "a"
      ],
      "execution_count": 22,
      "outputs": [
        {
          "output_type": "execute_result",
          "data": {
            "text/plain": [
              "array([1, 0, 0, 0, 0, 0, 0, 0, 0, 0, 0, 0, 1])"
            ]
          },
          "metadata": {},
          "execution_count": 22
        }
      ]
    },
    {
      "cell_type": "code",
      "metadata": {
        "colab": {
          "base_uri": "https://localhost:8080/"
        },
        "id": "nrZQl8PI5MoQ",
        "outputId": "484d5c96-438e-4cac-ce0a-079657b88521"
      },
      "source": [
        "a=np.zeros(9,int)\n",
        "x=a.reshape(3,3)\n",
        "x = np.pad(x, pad_width=1, mode='constant', constant_values=1)\n",
        "x"
      ],
      "execution_count": 23,
      "outputs": [
        {
          "output_type": "execute_result",
          "data": {
            "text/plain": [
              "array([[1, 1, 1, 1, 1],\n",
              "       [1, 0, 0, 0, 1],\n",
              "       [1, 0, 0, 0, 1],\n",
              "       [1, 0, 0, 0, 1],\n",
              "       [1, 1, 1, 1, 1]])"
            ]
          },
          "metadata": {},
          "execution_count": 23
        }
      ]
    },
    {
      "cell_type": "markdown",
      "metadata": {
        "id": "cIhKYCmTjzsK"
      },
      "source": [
        "#### 17. What is the result of the following expression? (★☆☆) \n",
        "(**hint**: NaN = not a number, inf = infinity)"
      ]
    },
    {
      "cell_type": "markdown",
      "metadata": {
        "id": "z-f26e5ujzsK"
      },
      "source": [
        "```python\n",
        "0 * np.nan\n",
        "np.nan == np.nan\n",
        "np.inf > np.nan\n",
        "np.nan - np.nan\n",
        "0.3 == 3 * 0.1\n",
        "```"
      ]
    },
    {
      "cell_type": "code",
      "metadata": {
        "id": "duQkx8BPjzsL",
        "colab": {
          "base_uri": "https://localhost:8080/"
        },
        "outputId": "250f2e04-f2d7-4d89-c763-865dece380d2"
      },
      "source": [
        "0 * np.nan\n",
        "np.nan == np.nan\n",
        "np.inf > np.nan\n",
        "np.nan - np.nan\n",
        "0.3 == 3 * 0.1"
      ],
      "execution_count": 24,
      "outputs": [
        {
          "output_type": "execute_result",
          "data": {
            "text/plain": [
              "False"
            ]
          },
          "metadata": {},
          "execution_count": 24
        }
      ]
    },
    {
      "cell_type": "markdown",
      "metadata": {
        "id": "Se8LhcmwjzsL"
      },
      "source": [
        "#### 18. Create a 5x5 matrix with values 1,2,3,4 just below the diagonal (★☆☆) \n",
        "(**hint**: np.diag)"
      ]
    },
    {
      "cell_type": "markdown",
      "metadata": {
        "id": "pe6WLT2W7nNc"
      },
      "source": [
        ""
      ]
    },
    {
      "cell_type": "code",
      "metadata": {
        "id": "hTMmlBwUjzsL",
        "colab": {
          "base_uri": "https://localhost:8080/"
        },
        "outputId": "adf9410f-70d4-48fc-dae5-9cc8dc0f91c3"
      },
      "source": [
        "a=np.diag([1,2,3,4])\n",
        "a"
      ],
      "execution_count": 25,
      "outputs": [
        {
          "output_type": "execute_result",
          "data": {
            "text/plain": [
              "array([[1, 0, 0, 0],\n",
              "       [0, 2, 0, 0],\n",
              "       [0, 0, 3, 0],\n",
              "       [0, 0, 0, 4]])"
            ]
          },
          "metadata": {},
          "execution_count": 25
        }
      ]
    },
    {
      "cell_type": "code",
      "metadata": {
        "colab": {
          "base_uri": "https://localhost:8080/"
        },
        "id": "IkV5xPY77jR8",
        "outputId": "f674ce8e-b2d2-497c-bca9-6a6a64f73a4a"
      },
      "source": [
        "a = np.diag(1+np.arange(4), k = -1)\n",
        "a"
      ],
      "execution_count": 26,
      "outputs": [
        {
          "output_type": "execute_result",
          "data": {
            "text/plain": [
              "array([[0, 0, 0, 0, 0],\n",
              "       [1, 0, 0, 0, 0],\n",
              "       [0, 2, 0, 0, 0],\n",
              "       [0, 0, 3, 0, 0],\n",
              "       [0, 0, 0, 4, 0]])"
            ]
          },
          "metadata": {},
          "execution_count": 26
        }
      ]
    },
    {
      "cell_type": "markdown",
      "metadata": {
        "id": "ShUrJY4xjzsL"
      },
      "source": [
        "#### 19. Create a 8x8 matrix and fill it with a checkerboard pattern (★☆☆) \n",
        "(**hint**: array\\[::2\\])"
      ]
    },
    {
      "cell_type": "code",
      "metadata": {
        "id": "2xyGYGQ1jzsM",
        "colab": {
          "base_uri": "https://localhost:8080/"
        },
        "outputId": "46f4c150-89cf-460b-c515-08982a87d0d8"
      },
      "source": [
        "x = np.zeros ((8,8),int)\n",
        "x[::2, 1::2] = 1\n",
        "x[1::2, ::2]= 1\n",
        "\n",
        "x"
      ],
      "execution_count": 27,
      "outputs": [
        {
          "output_type": "execute_result",
          "data": {
            "text/plain": [
              "array([[0, 1, 0, 1, 0, 1, 0, 1],\n",
              "       [1, 0, 1, 0, 1, 0, 1, 0],\n",
              "       [0, 1, 0, 1, 0, 1, 0, 1],\n",
              "       [1, 0, 1, 0, 1, 0, 1, 0],\n",
              "       [0, 1, 0, 1, 0, 1, 0, 1],\n",
              "       [1, 0, 1, 0, 1, 0, 1, 0],\n",
              "       [0, 1, 0, 1, 0, 1, 0, 1],\n",
              "       [1, 0, 1, 0, 1, 0, 1, 0]])"
            ]
          },
          "metadata": {},
          "execution_count": 27
        }
      ]
    },
    {
      "cell_type": "markdown",
      "metadata": {
        "id": "-fVxwX_SjzsM"
      },
      "source": [
        "#### 20. Consider a (6,7,8) shape array, what is the index (x,y,z) of the 100th element? \n",
        "(**hint**: np.unravel_index)"
      ]
    },
    {
      "cell_type": "code",
      "metadata": {
        "id": "e-ZMUBaEjzsM",
        "colab": {
          "base_uri": "https://localhost:8080/"
        },
        "outputId": "c5c4a4e8-bb95-4931-858a-503199969a83"
      },
      "source": [
        "x=np.unravel_index(100,(6,7,8))\n",
        "x"
      ],
      "execution_count": 28,
      "outputs": [
        {
          "output_type": "execute_result",
          "data": {
            "text/plain": [
              "(1, 5, 4)"
            ]
          },
          "metadata": {},
          "execution_count": 28
        }
      ]
    },
    {
      "cell_type": "markdown",
      "metadata": {
        "id": "YJlsfNnsjzsM"
      },
      "source": [
        "#### 21. Create a checkerboard 8x8 matrix using the tile function (★☆☆) \n",
        "(**hint**: np.tile)"
      ]
    },
    {
      "cell_type": "code",
      "metadata": {
        "id": "uh-BIaDtjzsN",
        "colab": {
          "base_uri": "https://localhost:8080/"
        },
        "outputId": "ec7dfbc2-bca0-4113-d7f8-98f4219f3878"
      },
      "source": [
        "ar= np.array([[0,1], [1,0]])\n",
        "x = np.tile(ar,(4,4))\n",
        "x"
      ],
      "execution_count": 29,
      "outputs": [
        {
          "output_type": "execute_result",
          "data": {
            "text/plain": [
              "array([[0, 1, 0, 1, 0, 1, 0, 1],\n",
              "       [1, 0, 1, 0, 1, 0, 1, 0],\n",
              "       [0, 1, 0, 1, 0, 1, 0, 1],\n",
              "       [1, 0, 1, 0, 1, 0, 1, 0],\n",
              "       [0, 1, 0, 1, 0, 1, 0, 1],\n",
              "       [1, 0, 1, 0, 1, 0, 1, 0],\n",
              "       [0, 1, 0, 1, 0, 1, 0, 1],\n",
              "       [1, 0, 1, 0, 1, 0, 1, 0]])"
            ]
          },
          "metadata": {},
          "execution_count": 29
        }
      ]
    },
    {
      "cell_type": "markdown",
      "metadata": {
        "id": "NYPm4NlrjzsN"
      },
      "source": [
        "#### 22. Normalize a 5x5 random matrix (★☆☆) \n",
        "(**hint**: (x - min) / (max - min))"
      ]
    },
    {
      "cell_type": "code",
      "metadata": {
        "id": "21ZsTkGljzsN",
        "colab": {
          "base_uri": "https://localhost:8080/"
        },
        "outputId": "a0205a39-89c9-483b-c006-0290377c8056"
      },
      "source": [
        "x=np.random.random((5,5))\n",
        "x"
      ],
      "execution_count": 30,
      "outputs": [
        {
          "output_type": "execute_result",
          "data": {
            "text/plain": [
              "array([[0.92049917, 0.96467478, 0.86811828, 0.4337592 , 0.62314056],\n",
              "       [0.52142033, 0.17779038, 0.82152479, 0.8617824 , 0.42709605],\n",
              "       [0.16135961, 0.23615829, 0.69393435, 0.31205773, 0.7123577 ],\n",
              "       [0.40286554, 0.29906442, 0.26867388, 0.38745048, 0.37880276],\n",
              "       [0.25264775, 0.14698846, 0.81930872, 0.30494895, 0.87581715]])"
            ]
          },
          "metadata": {},
          "execution_count": 30
        }
      ]
    },
    {
      "cell_type": "markdown",
      "metadata": {
        "id": "solMll1mjzsN"
      },
      "source": [
        " 23. Create a custom dtype that describes a color as four unsigned bytes (RGBA) (★☆☆) \n",
        "(**hint**: np.dtype)"
      ]
    },
    {
      "cell_type": "code",
      "metadata": {
        "collapsed": true,
        "id": "W6n9lSr5jzsN",
        "colab": {
          "base_uri": "https://localhost:8080/"
        },
        "outputId": "a26c7443-d423-4508-9e54-16a2f38c6f4e"
      },
      "source": [
        "color = np.dtype([(\"R\", np.ubyte, 1),\n",
        "                  (\"G\", np.ubyte, 1),\n",
        "                  (\"B\", np.ubyte, 1),\n",
        "                  (\"A\", np.ubyte, 1)])\n",
        "color"
      ],
      "execution_count": 31,
      "outputs": [
        {
          "output_type": "stream",
          "name": "stderr",
          "text": [
            "/usr/local/lib/python3.7/dist-packages/ipykernel_launcher.py:4: FutureWarning: Passing (type, 1) or '1type' as a synonym of type is deprecated; in a future version of numpy, it will be understood as (type, (1,)) / '(1,)type'.\n",
            "  after removing the cwd from sys.path.\n"
          ]
        },
        {
          "output_type": "execute_result",
          "data": {
            "text/plain": [
              "dtype([('R', 'u1'), ('G', 'u1'), ('B', 'u1'), ('A', 'u1')])"
            ]
          },
          "metadata": {},
          "execution_count": 31
        }
      ]
    },
    {
      "cell_type": "markdown",
      "metadata": {
        "id": "4tXFJWi1jzsO"
      },
      "source": [
        "#### 24. Multiply a 5x3 matrix by a 3x2 matrix (real matrix product) (★☆☆) \n",
        "(**hint**: np.dot | @)"
      ]
    },
    {
      "cell_type": "code",
      "metadata": {
        "id": "M9q_g0JdjzsO",
        "colab": {
          "base_uri": "https://localhost:8080/"
        },
        "outputId": "947554f0-e830-4ad6-d059-956f059a2175"
      },
      "source": [
        "a=np.arange(0,15)\n",
        "a=a.reshape(5,3)\n",
        "a"
      ],
      "execution_count": 32,
      "outputs": [
        {
          "output_type": "execute_result",
          "data": {
            "text/plain": [
              "array([[ 0,  1,  2],\n",
              "       [ 3,  4,  5],\n",
              "       [ 6,  7,  8],\n",
              "       [ 9, 10, 11],\n",
              "       [12, 13, 14]])"
            ]
          },
          "metadata": {},
          "execution_count": 32
        }
      ]
    },
    {
      "cell_type": "code",
      "metadata": {
        "colab": {
          "base_uri": "https://localhost:8080/"
        },
        "id": "vtfn4oiHCBgF",
        "outputId": "75203db7-6802-4f86-a7b7-7a6c02ab6aeb"
      },
      "source": [
        "b=np.arange(0,6)\n",
        "b=b.reshape(3,2)\n",
        "b"
      ],
      "execution_count": 33,
      "outputs": [
        {
          "output_type": "execute_result",
          "data": {
            "text/plain": [
              "array([[0, 1],\n",
              "       [2, 3],\n",
              "       [4, 5]])"
            ]
          },
          "metadata": {},
          "execution_count": 33
        }
      ]
    },
    {
      "cell_type": "markdown",
      "metadata": {
        "id": "jG1EEnG2CnIK"
      },
      "source": [
        "using np.dot method"
      ]
    },
    {
      "cell_type": "code",
      "metadata": {
        "colab": {
          "base_uri": "https://localhost:8080/"
        },
        "id": "Rvoi0FLVCQak",
        "outputId": "8c47f399-30bf-47a8-9671-af50aa6f1eb4"
      },
      "source": [
        "z=np.dot(a,b)\n",
        "z"
      ],
      "execution_count": 34,
      "outputs": [
        {
          "output_type": "execute_result",
          "data": {
            "text/plain": [
              "array([[ 10,  13],\n",
              "       [ 28,  40],\n",
              "       [ 46,  67],\n",
              "       [ 64,  94],\n",
              "       [ 82, 121]])"
            ]
          },
          "metadata": {},
          "execution_count": 34
        }
      ]
    },
    {
      "cell_type": "markdown",
      "metadata": {
        "id": "VXNn50sECqQP"
      },
      "source": [
        "using @ method"
      ]
    },
    {
      "cell_type": "code",
      "metadata": {
        "colab": {
          "base_uri": "https://localhost:8080/"
        },
        "id": "jpETCQ9QCXvP",
        "outputId": "706a7231-41c4-4747-d582-5b2215efab52"
      },
      "source": [
        "y=(a@b)\n",
        "y"
      ],
      "execution_count": 35,
      "outputs": [
        {
          "output_type": "execute_result",
          "data": {
            "text/plain": [
              "array([[ 10,  13],\n",
              "       [ 28,  40],\n",
              "       [ 46,  67],\n",
              "       [ 64,  94],\n",
              "       [ 82, 121]])"
            ]
          },
          "metadata": {},
          "execution_count": 35
        }
      ]
    },
    {
      "cell_type": "markdown",
      "metadata": {
        "id": "_VL7Lbz-jzsO"
      },
      "source": [
        "#### 25. Given a 1D array, negate all elements which are between 3 and 8, in place. (★☆☆) \n",
        "(**hint**: >, <=)"
      ]
    },
    {
      "cell_type": "code",
      "metadata": {
        "id": "oN-Z0V-UjzsO",
        "colab": {
          "base_uri": "https://localhost:8080/"
        },
        "outputId": "b93338b7-72cd-48a7-f2ed-9b49126249ce"
      },
      "source": [
        "x=np.arange(0,12)\n",
        "x[(x>3)&(x<8)]*=-1\n",
        "x"
      ],
      "execution_count": 36,
      "outputs": [
        {
          "output_type": "execute_result",
          "data": {
            "text/plain": [
              "array([ 0,  1,  2,  3, -4, -5, -6, -7,  8,  9, 10, 11])"
            ]
          },
          "metadata": {},
          "execution_count": 36
        }
      ]
    },
    {
      "cell_type": "markdown",
      "metadata": {
        "id": "eqwXBQ80jzsP"
      },
      "source": [
        "#### 26. What is the output of the following script? (★☆☆) \n",
        "(**hint**: np.sum)"
      ]
    },
    {
      "cell_type": "markdown",
      "metadata": {
        "id": "RSFhMys1jzsP"
      },
      "source": [
        "```python\n",
        "# Author: Jake VanderPlas\n",
        "\n",
        "print(sum(range(5),-1))\n",
        "from numpy import *\n",
        "print(sum(range(5),-1))\n",
        "```"
      ]
    },
    {
      "cell_type": "code",
      "metadata": {
        "id": "F-O3-F45jzsP",
        "colab": {
          "base_uri": "https://localhost:8080/"
        },
        "outputId": "c43d4104-0edf-453f-c9d9-c8c4b03b0df9"
      },
      "source": [
        "x=sum(range(5),-1)\n",
        "x"
      ],
      "execution_count": 37,
      "outputs": [
        {
          "output_type": "execute_result",
          "data": {
            "text/plain": [
              "9"
            ]
          },
          "metadata": {},
          "execution_count": 37
        }
      ]
    },
    {
      "cell_type": "code",
      "metadata": {
        "colab": {
          "base_uri": "https://localhost:8080/"
        },
        "id": "3-gQxsBrEl1h",
        "outputId": "ff594b32-faa5-483e-d61d-c1c50bc8568b"
      },
      "source": [
        "from numpy import *\n",
        "x=sum(range(5),-1)\n",
        "x"
      ],
      "execution_count": 38,
      "outputs": [
        {
          "output_type": "execute_result",
          "data": {
            "text/plain": [
              "10"
            ]
          },
          "metadata": {},
          "execution_count": 38
        }
      ]
    },
    {
      "cell_type": "markdown",
      "metadata": {
        "id": "tQIn3TWBjzsQ"
      },
      "source": [
        "#### 27. Consider an integer vector Z, which of these expressions are legal? (★☆☆)"
      ]
    },
    {
      "cell_type": "markdown",
      "metadata": {
        "id": "MvQG2edujzsQ"
      },
      "source": [
        "```python\n",
        "Z**Z\n",
        "2 << Z >> 2\n",
        "Z <- Z\n",
        "1j*Z\n",
        "Z/1/1\n",
        "Z<Z>Z\n",
        "```"
      ]
    },
    {
      "cell_type": "code",
      "metadata": {
        "id": "6wj16itdFBu8"
      },
      "source": [
        "Z=np.arange(10)"
      ],
      "execution_count": 39,
      "outputs": []
    },
    {
      "cell_type": "markdown",
      "metadata": {
        "id": "7XWSjCevFM51"
      },
      "source": [
        "these expressions are legal except(Z<*Z*>Z)"
      ]
    },
    {
      "cell_type": "code",
      "metadata": {
        "id": "4cajbKwnjzsQ",
        "colab": {
          "base_uri": "https://localhost:8080/"
        },
        "outputId": "772b1862-6b3d-408c-a2b8-7246f4ec6ca5"
      },
      "source": [
        "Z**Z\n",
        "\n"
      ],
      "execution_count": 40,
      "outputs": [
        {
          "output_type": "execute_result",
          "data": {
            "text/plain": [
              "array([        1,         1,         4,        27,       256,      3125,\n",
              "           46656,    823543,  16777216, 387420489])"
            ]
          },
          "metadata": {},
          "execution_count": 40
        }
      ]
    },
    {
      "cell_type": "code",
      "metadata": {
        "colab": {
          "base_uri": "https://localhost:8080/"
        },
        "id": "vp7zO9LjFYSD",
        "outputId": "a311ed5b-bcf2-4a14-aeb7-da597dc07d99"
      },
      "source": [
        "2 << Z >> 2\n"
      ],
      "execution_count": 41,
      "outputs": [
        {
          "output_type": "execute_result",
          "data": {
            "text/plain": [
              "array([  0,   1,   2,   4,   8,  16,  32,  64, 128, 256])"
            ]
          },
          "metadata": {},
          "execution_count": 41
        }
      ]
    },
    {
      "cell_type": "code",
      "metadata": {
        "colab": {
          "base_uri": "https://localhost:8080/"
        },
        "id": "m7lgxrlvFaRu",
        "outputId": "3643f0d6-0ae3-4f34-d27d-2f1309eb7157"
      },
      "source": [
        "Z <- Z\n"
      ],
      "execution_count": 42,
      "outputs": [
        {
          "output_type": "execute_result",
          "data": {
            "text/plain": [
              "array([False, False, False, False, False, False, False, False, False,\n",
              "       False])"
            ]
          },
          "metadata": {},
          "execution_count": 42
        }
      ]
    },
    {
      "cell_type": "code",
      "metadata": {
        "colab": {
          "base_uri": "https://localhost:8080/"
        },
        "id": "3mGSgD7YFcE2",
        "outputId": "e37e1a6b-a20e-484a-d6ca-ca704de264da"
      },
      "source": [
        "1j*Z\n"
      ],
      "execution_count": 43,
      "outputs": [
        {
          "output_type": "execute_result",
          "data": {
            "text/plain": [
              "array([0.+0.j, 0.+1.j, 0.+2.j, 0.+3.j, 0.+4.j, 0.+5.j, 0.+6.j, 0.+7.j,\n",
              "       0.+8.j, 0.+9.j])"
            ]
          },
          "metadata": {},
          "execution_count": 43
        }
      ]
    },
    {
      "cell_type": "code",
      "metadata": {
        "colab": {
          "base_uri": "https://localhost:8080/"
        },
        "id": "YGYEFeLlFeJE",
        "outputId": "fafe6833-f0dc-4ac4-e536-e04789f56b7e"
      },
      "source": [
        "Z/1/1"
      ],
      "execution_count": 44,
      "outputs": [
        {
          "output_type": "execute_result",
          "data": {
            "text/plain": [
              "array([0., 1., 2., 3., 4., 5., 6., 7., 8., 9.])"
            ]
          },
          "metadata": {},
          "execution_count": 44
        }
      ]
    },
    {
      "cell_type": "markdown",
      "metadata": {
        "id": "QYli6UWDjzsQ"
      },
      "source": [
        "#### 28. What are the result of the following expressions?"
      ]
    },
    {
      "cell_type": "markdown",
      "metadata": {
        "id": "ArAGPxlEjzsQ"
      },
      "source": [
        "```python\n",
        "np.array(0) / np.array(0)\n",
        "np.array(0) // np.array(0)\n",
        "np.array([np.nan]).astype(int).astype(float)\n",
        "```"
      ]
    },
    {
      "cell_type": "code",
      "metadata": {
        "id": "myYBCW8HjzsR",
        "colab": {
          "base_uri": "https://localhost:8080/"
        },
        "outputId": "a2e671ce-6eff-46b0-839b-1bbe510cf3f9"
      },
      "source": [
        "np.array(0) / np.array(0)\n",
        "np.array(0) // np.array(0)\n",
        "np.array([np.nan]).astype(int).astype(float)"
      ],
      "execution_count": 45,
      "outputs": [
        {
          "output_type": "stream",
          "name": "stderr",
          "text": [
            "/usr/local/lib/python3.7/dist-packages/ipykernel_launcher.py:1: RuntimeWarning: invalid value encountered in true_divide\n",
            "  \"\"\"Entry point for launching an IPython kernel.\n",
            "/usr/local/lib/python3.7/dist-packages/ipykernel_launcher.py:2: RuntimeWarning: divide by zero encountered in floor_divide\n",
            "  \n"
          ]
        },
        {
          "output_type": "execute_result",
          "data": {
            "text/plain": [
              "array([-9.22337204e+18])"
            ]
          },
          "metadata": {},
          "execution_count": 45
        }
      ]
    },
    {
      "cell_type": "markdown",
      "metadata": {
        "id": "HK4bicu7jzsR"
      },
      "source": [
        "#### 29. How to round away from zero a float array ? (★☆☆) \n",
        "(**hint**: np.uniform, np.copysign, np.ceil, np.abs)"
      ]
    },
    {
      "cell_type": "code",
      "metadata": {
        "id": "uvYdYzM6jzsR",
        "colab": {
          "base_uri": "https://localhost:8080/"
        },
        "outputId": "24e4fa14-964c-461d-f8ea-1824327ffc7c"
      },
      "source": [
        "x=np.random.uniform(-5,5,10)\n",
        "x"
      ],
      "execution_count": 46,
      "outputs": [
        {
          "output_type": "execute_result",
          "data": {
            "text/plain": [
              "array([-1.41362425,  0.38888379,  0.72200666,  2.15552014,  3.88487168,\n",
              "       -3.99000014, -0.98789385, -0.16078912,  3.72790663,  0.09564722])"
            ]
          },
          "metadata": {},
          "execution_count": 46
        }
      ]
    },
    {
      "cell_type": "code",
      "metadata": {
        "colab": {
          "base_uri": "https://localhost:8080/"
        },
        "id": "2Qu4DN7VGSyp",
        "outputId": "1cfe4cd0-9b73-4a98-d87a-265ca7c97753"
      },
      "source": [
        "y=np.ceil(x)\n",
        "y"
      ],
      "execution_count": 47,
      "outputs": [
        {
          "output_type": "execute_result",
          "data": {
            "text/plain": [
              "array([-1.,  1.,  1.,  3.,  4., -3., -0., -0.,  4.,  1.])"
            ]
          },
          "metadata": {},
          "execution_count": 47
        }
      ]
    },
    {
      "cell_type": "code",
      "metadata": {
        "colab": {
          "base_uri": "https://localhost:8080/"
        },
        "id": "XLWO896XGggc",
        "outputId": "d6bbe790-ed21-478d-f466-b766fba6c5dd"
      },
      "source": [
        "z=np.abs(x)\n",
        "z"
      ],
      "execution_count": 48,
      "outputs": [
        {
          "output_type": "execute_result",
          "data": {
            "text/plain": [
              "array([1.41362425, 0.38888379, 0.72200666, 2.15552014, 3.88487168,\n",
              "       3.99000014, 0.98789385, 0.16078912, 3.72790663, 0.09564722])"
            ]
          },
          "metadata": {},
          "execution_count": 48
        }
      ]
    },
    {
      "cell_type": "code",
      "metadata": {
        "colab": {
          "base_uri": "https://localhost:8080/"
        },
        "id": "cFbpi5k6GsZW",
        "outputId": "6c0bb4c0-da0b-4fba-d71f-ab4c9b19ab08"
      },
      "source": [
        "round=np.copysign(np.ceil(np.abs(x)), x)\n",
        "round"
      ],
      "execution_count": 49,
      "outputs": [
        {
          "output_type": "execute_result",
          "data": {
            "text/plain": [
              "array([-2.,  1.,  1.,  3.,  4., -4., -1., -1.,  4.,  1.])"
            ]
          },
          "metadata": {},
          "execution_count": 49
        }
      ]
    },
    {
      "cell_type": "markdown",
      "metadata": {
        "id": "EM_HCESKjzsR"
      },
      "source": [
        "#### 30. How to find common values between two arrays? (★☆☆) \n",
        "(**hint**: np.intersect1d)"
      ]
    },
    {
      "cell_type": "code",
      "metadata": {
        "id": "PiWPwi0xjzsR",
        "colab": {
          "base_uri": "https://localhost:8080/"
        },
        "outputId": "7af77b69-cb43-40a3-8dc3-745d7d371d4c"
      },
      "source": [
        "a=np.random.randint(0,10,5)\n",
        "b=np.random.randint(0,10,5)\n",
        "a,b"
      ],
      "execution_count": 50,
      "outputs": [
        {
          "output_type": "execute_result",
          "data": {
            "text/plain": [
              "(array([6, 4, 9, 8, 7]), array([6, 6, 3, 3, 7]))"
            ]
          },
          "metadata": {},
          "execution_count": 50
        }
      ]
    },
    {
      "cell_type": "code",
      "metadata": {
        "colab": {
          "base_uri": "https://localhost:8080/"
        },
        "id": "kus8Qq1iIw8G",
        "outputId": "c51a3cdf-391a-4572-bd3a-76198c6ca657"
      },
      "source": [
        "c=intersect1d(a,b)\n",
        "c"
      ],
      "execution_count": 51,
      "outputs": [
        {
          "output_type": "execute_result",
          "data": {
            "text/plain": [
              "array([6, 7])"
            ]
          },
          "metadata": {},
          "execution_count": 51
        }
      ]
    },
    {
      "cell_type": "markdown",
      "metadata": {
        "id": "2UVP2sjGjzsR"
      },
      "source": [
        "31. How to ignore all numpy warnings (not recommended)? (★☆☆) \n",
        "(**hint**: np.seterr, np.errstate)"
      ]
    },
    {
      "cell_type": "code",
      "metadata": {
        "id": "2CCfMBh9jzsS",
        "colab": {
          "base_uri": "https://localhost:8080/"
        },
        "outputId": "b1c14e09-876b-4f44-afbe-ba7471c8bf7e"
      },
      "source": [
        "np.seterr(all='ignore')"
      ],
      "execution_count": 52,
      "outputs": [
        {
          "output_type": "execute_result",
          "data": {
            "text/plain": [
              "{'divide': 'warn', 'invalid': 'warn', 'over': 'warn', 'under': 'ignore'}"
            ]
          },
          "metadata": {},
          "execution_count": 52
        }
      ]
    },
    {
      "cell_type": "code",
      "metadata": {
        "colab": {
          "base_uri": "https://localhost:8080/"
        },
        "id": "0AtrJ_m0J3RX",
        "outputId": "f1484d67-a7a4-43ab-b5e8-24382d9aa2ed"
      },
      "source": [
        "np.errstate(invalid='raise')"
      ],
      "execution_count": 53,
      "outputs": [
        {
          "output_type": "execute_result",
          "data": {
            "text/plain": [
              "<numpy.errstate at 0x7f6654e91d50>"
            ]
          },
          "metadata": {},
          "execution_count": 53
        }
      ]
    },
    {
      "cell_type": "markdown",
      "metadata": {
        "id": "aqvUdHAJjzsS"
      },
      "source": [
        "#### 32. Is the following expressions true? (★☆☆) \n",
        "(**hint**: imaginary number)"
      ]
    },
    {
      "cell_type": "markdown",
      "metadata": {
        "id": "I4JklFJyjzsS"
      },
      "source": [
        "```python\n",
        "np.sqrt(-1) == np.emath.sqrt(-1)\n",
        "```"
      ]
    },
    {
      "cell_type": "code",
      "metadata": {
        "id": "Pdjk24QdjzsS",
        "colab": {
          "base_uri": "https://localhost:8080/"
        },
        "outputId": "0d4ff2ca-7650-4561-a53a-ec94faf53984"
      },
      "source": [
        "np.sqrt(-1) == np.emath.sqrt(-1)\n"
      ],
      "execution_count": 54,
      "outputs": [
        {
          "output_type": "execute_result",
          "data": {
            "text/plain": [
              "False"
            ]
          },
          "metadata": {},
          "execution_count": 54
        }
      ]
    },
    {
      "cell_type": "markdown",
      "metadata": {
        "id": "xW5OTzRijzsS"
      },
      "source": [
        "#### 33. How to get the dates of yesterday, today and tomorrow? (★☆☆) \n",
        "(**hint**: np.datetime64, np.timedelta64)"
      ]
    },
    {
      "cell_type": "markdown",
      "metadata": {
        "id": "y3N43R7KL-BP"
      },
      "source": [
        "TODAY"
      ]
    },
    {
      "cell_type": "code",
      "metadata": {
        "collapsed": true,
        "id": "QNEym89ajzsS",
        "colab": {
          "base_uri": "https://localhost:8080/"
        },
        "outputId": "ed60e780-bcc9-495d-d59d-5916c0f5c797"
      },
      "source": [
        "today=np.datetime64('today')\n",
        "print(today)"
      ],
      "execution_count": 55,
      "outputs": [
        {
          "output_type": "stream",
          "name": "stdout",
          "text": [
            "2021-09-23\n"
          ]
        }
      ]
    },
    {
      "cell_type": "markdown",
      "metadata": {
        "id": "zMJP8jZxMANU"
      },
      "source": [
        "TOMORROW"
      ]
    },
    {
      "cell_type": "code",
      "metadata": {
        "colab": {
          "base_uri": "https://localhost:8080/"
        },
        "id": "TshdAR-4LjtY",
        "outputId": "cdacc62f-b6ca-4ec2-d922-e012f39e32db"
      },
      "source": [
        "tomorrow=np.datetime64('today')+np.timedelta64(1)\n",
        "print(tomorrow)"
      ],
      "execution_count": 56,
      "outputs": [
        {
          "output_type": "stream",
          "name": "stdout",
          "text": [
            "2021-09-24\n"
          ]
        }
      ]
    },
    {
      "cell_type": "markdown",
      "metadata": {
        "id": "KM4cqgBAMOv_"
      },
      "source": [
        "YESTERDAY"
      ]
    },
    {
      "cell_type": "code",
      "metadata": {
        "id": "_7hvyUdKMQtY",
        "colab": {
          "base_uri": "https://localhost:8080/"
        },
        "outputId": "d7164a7d-6489-4b00-b9f1-22e4a6f1f57f"
      },
      "source": [
        "yesterday=np.datetime64('today')-np.timedelta64(1)\n",
        "print(yesterday)"
      ],
      "execution_count": 57,
      "outputs": [
        {
          "output_type": "stream",
          "name": "stdout",
          "text": [
            "2021-09-22\n"
          ]
        }
      ]
    },
    {
      "cell_type": "markdown",
      "metadata": {
        "id": "607wCAhAjzsT"
      },
      "source": [
        "#### 34. How to get all the dates corresponding to the month of July 2016? (★★☆) \n",
        "(**hint**: np.arange(dtype=datetime64\\['D'\\]))"
      ]
    },
    {
      "cell_type": "code",
      "metadata": {
        "id": "MKeSDIoDjzsT",
        "colab": {
          "base_uri": "https://localhost:8080/"
        },
        "outputId": "62837945-9ddb-44a2-edb0-7004083511da"
      },
      "source": [
        "JULY=np.arange('2016-07', '2016-08', dtype='datetime64[D]')\n",
        "JULY"
      ],
      "execution_count": 58,
      "outputs": [
        {
          "output_type": "execute_result",
          "data": {
            "text/plain": [
              "array(['2016-07-01', '2016-07-02', '2016-07-03', '2016-07-04',\n",
              "       '2016-07-05', '2016-07-06', '2016-07-07', '2016-07-08',\n",
              "       '2016-07-09', '2016-07-10', '2016-07-11', '2016-07-12',\n",
              "       '2016-07-13', '2016-07-14', '2016-07-15', '2016-07-16',\n",
              "       '2016-07-17', '2016-07-18', '2016-07-19', '2016-07-20',\n",
              "       '2016-07-21', '2016-07-22', '2016-07-23', '2016-07-24',\n",
              "       '2016-07-25', '2016-07-26', '2016-07-27', '2016-07-28',\n",
              "       '2016-07-29', '2016-07-30', '2016-07-31'], dtype='datetime64[D]')"
            ]
          },
          "metadata": {},
          "execution_count": 58
        }
      ]
    },
    {
      "cell_type": "markdown",
      "metadata": {
        "id": "fbn3Sa_8jzsT"
      },
      "source": [
        "#### 35. How to compute ((A+B)\\*(-A/2)) in place (without copy)? (★★☆) \n",
        "(**hint**: np.add(out=), np.negative(out=), np.multiply(out=), np.divide(out=))"
      ]
    },
    {
      "cell_type": "code",
      "metadata": {
        "id": "7Xn7RnXBjzsT",
        "colab": {
          "base_uri": "https://localhost:8080/"
        },
        "outputId": "d7f7801a-6111-4432-eaf9-73f6aa13528e"
      },
      "source": [
        "A=np.array([1,1,1])\n",
        "B=np.array([2,2,2])\n",
        "A"
      ],
      "execution_count": 59,
      "outputs": [
        {
          "output_type": "execute_result",
          "data": {
            "text/plain": [
              "array([1, 1, 1])"
            ]
          },
          "metadata": {},
          "execution_count": 59
        }
      ]
    },
    {
      "cell_type": "code",
      "metadata": {
        "colab": {
          "base_uri": "https://localhost:8080/"
        },
        "id": "-ReAdIaVPiKD",
        "outputId": "1f2feb74-5528-4f50-cf3d-e8d5d063a77c"
      },
      "source": [
        "B"
      ],
      "execution_count": 60,
      "outputs": [
        {
          "output_type": "execute_result",
          "data": {
            "text/plain": [
              "array([2, 2, 2])"
            ]
          },
          "metadata": {},
          "execution_count": 60
        }
      ]
    },
    {
      "cell_type": "code",
      "metadata": {
        "colab": {
          "base_uri": "https://localhost:8080/"
        },
        "id": "wfs9_JK2PnA5",
        "outputId": "a0205806-c4f0-4dd0-f7e0-b495d5f5ebdf"
      },
      "source": [
        "result=np.multiply((np.add(A,B)),(np.divide(np.negative(A),2)))\n",
        "result"
      ],
      "execution_count": 61,
      "outputs": [
        {
          "output_type": "execute_result",
          "data": {
            "text/plain": [
              "array([-1.5, -1.5, -1.5])"
            ]
          },
          "metadata": {},
          "execution_count": 61
        }
      ]
    },
    {
      "cell_type": "markdown",
      "metadata": {
        "id": "pjmlSFDRjzsT"
      },
      "source": [
        "#### 36. Extract the integer part of a random array using 5 different methods (★★☆) \n",
        "(**hint**: %, np.floor, np.ceil, astype, np.trunc)"
      ]
    },
    {
      "cell_type": "code",
      "metadata": {
        "id": "N4d4J_wmjzsT"
      },
      "source": [
        "x=np.random.uniform(0,10,10)"
      ],
      "execution_count": 62,
      "outputs": []
    },
    {
      "cell_type": "code",
      "metadata": {
        "colab": {
          "base_uri": "https://localhost:8080/"
        },
        "id": "I9gjefSMR3Wz",
        "outputId": "5e7382dd-692d-4604-e310-80c59003a3ad"
      },
      "source": [
        "x-x%1"
      ],
      "execution_count": 63,
      "outputs": [
        {
          "output_type": "execute_result",
          "data": {
            "text/plain": [
              "array([0., 5., 4., 1., 5., 8., 2., 3., 3., 1.])"
            ]
          },
          "metadata": {},
          "execution_count": 63
        }
      ]
    },
    {
      "cell_type": "code",
      "metadata": {
        "colab": {
          "base_uri": "https://localhost:8080/"
        },
        "id": "QSqs8e1nR-UY",
        "outputId": "24823a3d-e7ed-4f9e-dc8f-34b2ea592a66"
      },
      "source": [
        "np.floor(x)"
      ],
      "execution_count": 64,
      "outputs": [
        {
          "output_type": "execute_result",
          "data": {
            "text/plain": [
              "array([0., 5., 4., 1., 5., 8., 2., 3., 3., 1.])"
            ]
          },
          "metadata": {},
          "execution_count": 64
        }
      ]
    },
    {
      "cell_type": "code",
      "metadata": {
        "colab": {
          "base_uri": "https://localhost:8080/"
        },
        "id": "R9IlohmpSDEf",
        "outputId": "d783677f-d5b9-4060-80bb-d92a09269bd2"
      },
      "source": [
        "np.ceil(x)"
      ],
      "execution_count": 65,
      "outputs": [
        {
          "output_type": "execute_result",
          "data": {
            "text/plain": [
              "array([1., 6., 5., 2., 6., 9., 3., 4., 4., 2.])"
            ]
          },
          "metadata": {},
          "execution_count": 65
        }
      ]
    },
    {
      "cell_type": "code",
      "metadata": {
        "colab": {
          "base_uri": "https://localhost:8080/"
        },
        "id": "ZtxlNTGSSKsI",
        "outputId": "e99ca7f6-4ea5-48bc-d5f3-1bea1a885252"
      },
      "source": [
        "x.astype(int)"
      ],
      "execution_count": 66,
      "outputs": [
        {
          "output_type": "execute_result",
          "data": {
            "text/plain": [
              "array([0, 5, 4, 1, 5, 8, 2, 3, 3, 1])"
            ]
          },
          "metadata": {},
          "execution_count": 66
        }
      ]
    },
    {
      "cell_type": "code",
      "metadata": {
        "colab": {
          "base_uri": "https://localhost:8080/"
        },
        "id": "DHKuJyW3Tgy9",
        "outputId": "77130a2e-bad0-4215-881d-d96b378aae87"
      },
      "source": [
        "np.trunc(x)"
      ],
      "execution_count": 67,
      "outputs": [
        {
          "output_type": "execute_result",
          "data": {
            "text/plain": [
              "array([0., 5., 4., 1., 5., 8., 2., 3., 3., 1.])"
            ]
          },
          "metadata": {},
          "execution_count": 67
        }
      ]
    },
    {
      "cell_type": "markdown",
      "metadata": {
        "id": "-2bxJu1ZjzsT"
      },
      "source": [
        "#### 37. Create a 5x5 matrix with row values ranging from 0 to 4 (★★☆) \n",
        "(**hint**: np.arange)"
      ]
    },
    {
      "cell_type": "code",
      "metadata": {
        "id": "VsugrLqLjzsU",
        "colab": {
          "base_uri": "https://localhost:8080/"
        },
        "outputId": "2cef04be-fcbd-4561-de18-5b88a27dc832"
      },
      "source": [
        "x=np.zeros((5,5))\n",
        "x=x+np.arange(0,5)\n",
        "x"
      ],
      "execution_count": 68,
      "outputs": [
        {
          "output_type": "execute_result",
          "data": {
            "text/plain": [
              "array([[0., 1., 2., 3., 4.],\n",
              "       [0., 1., 2., 3., 4.],\n",
              "       [0., 1., 2., 3., 4.],\n",
              "       [0., 1., 2., 3., 4.],\n",
              "       [0., 1., 2., 3., 4.]])"
            ]
          },
          "metadata": {},
          "execution_count": 68
        }
      ]
    },
    {
      "cell_type": "markdown",
      "metadata": {
        "id": "bnapjvVCjzsU"
      },
      "source": [
        "#### 38. Consider a generator function that generates 10 integers and use it to build an array (★☆☆) \n",
        "(**hint**: np.fromiter)"
      ]
    },
    {
      "cell_type": "code",
      "metadata": {
        "id": "cGHt-Be_jzsU",
        "colab": {
          "base_uri": "https://localhost:8080/"
        },
        "outputId": "7a2e0cc2-64e3-4cb8-8347-788015aca90b"
      },
      "source": [
        "def Generator():\n",
        "  for x in range(10):\n",
        "    yield x\n",
        "\n",
        "x=np.fromiter(Generator(),int)\n",
        "x"
      ],
      "execution_count": 69,
      "outputs": [
        {
          "output_type": "execute_result",
          "data": {
            "text/plain": [
              "array([0, 1, 2, 3, 4, 5, 6, 7, 8, 9])"
            ]
          },
          "metadata": {},
          "execution_count": 69
        }
      ]
    },
    {
      "cell_type": "markdown",
      "metadata": {
        "id": "_qapBsY1jzsU"
      },
      "source": [
        "#### 39. Create a vector of size 10 with values ranging from 0 to 1, both excluded (★★☆) \n",
        "(**hint**: np.linspace)"
      ]
    },
    {
      "cell_type": "code",
      "metadata": {
        "id": "3Up_Jh0YjzsU",
        "colab": {
          "base_uri": "https://localhost:8080/"
        },
        "outputId": "a1429dcc-a3d7-440e-b3f1-b79c3ca46bbd"
      },
      "source": [
        "x=np.linspace(0,1,11 ,endpoint=False)\n",
        "x[1:]"
      ],
      "execution_count": 70,
      "outputs": [
        {
          "output_type": "execute_result",
          "data": {
            "text/plain": [
              "array([0.09090909, 0.18181818, 0.27272727, 0.36363636, 0.45454545,\n",
              "       0.54545455, 0.63636364, 0.72727273, 0.81818182, 0.90909091])"
            ]
          },
          "metadata": {},
          "execution_count": 70
        }
      ]
    },
    {
      "cell_type": "markdown",
      "metadata": {
        "id": "hzurH02gjzsU"
      },
      "source": [
        "#### 40. Create a random vector of size 10 and sort it (★★☆) \n",
        "(**hint**: sort)"
      ]
    },
    {
      "cell_type": "code",
      "metadata": {
        "id": "a-C3tgFejzsV",
        "colab": {
          "base_uri": "https://localhost:8080/"
        },
        "outputId": "7c1ec890-0b30-43e6-936e-d6793652d809"
      },
      "source": [
        "x=np.random.randint(0,10,10)\n",
        "x"
      ],
      "execution_count": 71,
      "outputs": [
        {
          "output_type": "execute_result",
          "data": {
            "text/plain": [
              "array([1, 4, 1, 1, 1, 7, 5, 7, 2, 3])"
            ]
          },
          "metadata": {},
          "execution_count": 71
        }
      ]
    },
    {
      "cell_type": "code",
      "metadata": {
        "colab": {
          "base_uri": "https://localhost:8080/"
        },
        "id": "ZaymxSINXuR1",
        "outputId": "9ea61b5f-64d4-41f3-f8f4-4a8e98102ed9"
      },
      "source": [
        "x=np.sort(x)\n",
        "x"
      ],
      "execution_count": 72,
      "outputs": [
        {
          "output_type": "execute_result",
          "data": {
            "text/plain": [
              "array([1, 1, 1, 1, 2, 3, 4, 5, 7, 7])"
            ]
          },
          "metadata": {},
          "execution_count": 72
        }
      ]
    },
    {
      "cell_type": "markdown",
      "metadata": {
        "id": "pSaWeCy-jzsV"
      },
      "source": [
        "#### 41. How to sum a small array faster than np.sum? (★★☆) \n",
        "(**hint**: np.add.reduce)"
      ]
    },
    {
      "cell_type": "code",
      "metadata": {
        "id": "6PQglQ33jzsV",
        "colab": {
          "base_uri": "https://localhost:8080/"
        },
        "outputId": "c2cb4564-47f6-4b06-f56a-d150b04b1788"
      },
      "source": [
        "x=np.random.uniform(0,10,10)\n",
        "x"
      ],
      "execution_count": 73,
      "outputs": [
        {
          "output_type": "execute_result",
          "data": {
            "text/plain": [
              "array([3.84655588, 1.58105173, 6.39176893, 0.88290884, 2.41001567,\n",
              "       5.65722841, 1.04586276, 4.32660233, 1.15921041, 6.44702173])"
            ]
          },
          "metadata": {},
          "execution_count": 73
        }
      ]
    },
    {
      "cell_type": "code",
      "metadata": {
        "colab": {
          "base_uri": "https://localhost:8080/"
        },
        "id": "Wm3MliGsYyhl",
        "outputId": "9d70a203-f5a8-4cb8-ec55-4c375225dda4"
      },
      "source": [
        "np.sum(x)"
      ],
      "execution_count": 74,
      "outputs": [
        {
          "output_type": "execute_result",
          "data": {
            "text/plain": [
              "33.74822667477123"
            ]
          },
          "metadata": {},
          "execution_count": 74
        }
      ]
    },
    {
      "cell_type": "code",
      "metadata": {
        "colab": {
          "base_uri": "https://localhost:8080/"
        },
        "id": "nivZlsmyYrp0",
        "outputId": "37baee25-90f9-4cb2-a0fa-c5b05c659552"
      },
      "source": [
        "np.add.reduce(x)"
      ],
      "execution_count": 75,
      "outputs": [
        {
          "output_type": "execute_result",
          "data": {
            "text/plain": [
              "33.74822667477123"
            ]
          },
          "metadata": {},
          "execution_count": 75
        }
      ]
    },
    {
      "cell_type": "markdown",
      "metadata": {
        "id": "umxb8cnYjzsV"
      },
      "source": [
        "#### 42. Consider two random array A and B, check if they are equal (★★☆) \n",
        "(**hint**: np.allclose, np.array\\_equal)"
      ]
    },
    {
      "cell_type": "code",
      "metadata": {
        "id": "iuJjP46wjzsV"
      },
      "source": [
        "A=np.random.random(10)\n",
        "B=np.random.random(10)"
      ],
      "execution_count": 76,
      "outputs": []
    },
    {
      "cell_type": "code",
      "metadata": {
        "colab": {
          "base_uri": "https://localhost:8080/"
        },
        "id": "mQCtyO7WZSpw",
        "outputId": "dda07682-a8d8-4948-aa10-74fac5eaedd7"
      },
      "source": [
        "A,B"
      ],
      "execution_count": 77,
      "outputs": [
        {
          "output_type": "execute_result",
          "data": {
            "text/plain": [
              "(array([0.41550442, 0.89633655, 0.93106942, 0.66387898, 0.27742799,\n",
              "        0.57054528, 0.72436287, 0.3915669 , 0.46854021, 0.16670873]),\n",
              " array([0.65650287, 0.8885266 , 0.0268072 , 0.23851817, 0.18693108,\n",
              "        0.59165966, 0.54035492, 0.09278976, 0.59839987, 0.18343201]))"
            ]
          },
          "metadata": {},
          "execution_count": 77
        }
      ]
    },
    {
      "cell_type": "code",
      "metadata": {
        "colab": {
          "base_uri": "https://localhost:8080/"
        },
        "id": "HTzCfCO2ZlAu",
        "outputId": "a59b8c91-9ffc-4fea-ce3e-8f50266fb4b5"
      },
      "source": [
        "np.allclose(A,B)"
      ],
      "execution_count": 78,
      "outputs": [
        {
          "output_type": "execute_result",
          "data": {
            "text/plain": [
              "False"
            ]
          },
          "metadata": {},
          "execution_count": 78
        }
      ]
    },
    {
      "cell_type": "code",
      "metadata": {
        "colab": {
          "base_uri": "https://localhost:8080/"
        },
        "id": "G8OXWnTeZpna",
        "outputId": "61a79379-9535-4ee0-895f-280af0c66e46"
      },
      "source": [
        "np.array_equal(A,B)"
      ],
      "execution_count": 79,
      "outputs": [
        {
          "output_type": "execute_result",
          "data": {
            "text/plain": [
              "False"
            ]
          },
          "metadata": {},
          "execution_count": 79
        }
      ]
    },
    {
      "cell_type": "markdown",
      "metadata": {
        "id": "QpSm-6LLjzsV"
      },
      "source": [
        "#### 43. Make an array immutable (read-only) (★★☆) \n",
        "(**hint**: flags.writeable)"
      ]
    },
    {
      "cell_type": "code",
      "metadata": {
        "id": "uuaNYbtUjzsV",
        "colab": {
          "base_uri": "https://localhost:8080/"
        },
        "outputId": "5cc23eb7-cec9-4358-c9c5-d6daeacc9d3d"
      },
      "source": [
        "x=np.random.random(10)\n",
        "x.flags.writeable=False\n",
        "x"
      ],
      "execution_count": 80,
      "outputs": [
        {
          "output_type": "execute_result",
          "data": {
            "text/plain": [
              "array([0.38518572, 0.71404019, 0.00593062, 0.38323868, 0.16636353,\n",
              "       0.31084667, 0.98678138, 0.48462273, 0.1639102 , 0.59956016])"
            ]
          },
          "metadata": {},
          "execution_count": 80
        }
      ]
    },
    {
      "cell_type": "code",
      "metadata": {
        "colab": {
          "base_uri": "https://localhost:8080/"
        },
        "id": "ev5xHpdsafMC",
        "outputId": "05dbadab-e30a-4b02-b856-3ae155192c15"
      },
      "source": [
        "x[3]"
      ],
      "execution_count": 81,
      "outputs": [
        {
          "output_type": "execute_result",
          "data": {
            "text/plain": [
              "0.3832386811410484"
            ]
          },
          "metadata": {},
          "execution_count": 81
        }
      ]
    },
    {
      "cell_type": "code",
      "metadata": {
        "colab": {
          "base_uri": "https://localhost:8080/",
          "height": 164
        },
        "id": "e927Xfk4aS1l",
        "outputId": "9412bfd0-35f8-41d9-cad6-d940aef182b5"
      },
      "source": [
        "x[3]=5"
      ],
      "execution_count": 82,
      "outputs": [
        {
          "output_type": "error",
          "ename": "ValueError",
          "evalue": "ignored",
          "traceback": [
            "\u001b[0;31m---------------------------------------------------------------------------\u001b[0m",
            "\u001b[0;31mValueError\u001b[0m                                Traceback (most recent call last)",
            "\u001b[0;32m<ipython-input-82-8fa6a5aede99>\u001b[0m in \u001b[0;36m<module>\u001b[0;34m()\u001b[0m\n\u001b[0;32m----> 1\u001b[0;31m \u001b[0mx\u001b[0m\u001b[0;34m[\u001b[0m\u001b[0;36m3\u001b[0m\u001b[0;34m]\u001b[0m\u001b[0;34m=\u001b[0m\u001b[0;36m5\u001b[0m\u001b[0;34m\u001b[0m\u001b[0;34m\u001b[0m\u001b[0m\n\u001b[0m",
            "\u001b[0;31mValueError\u001b[0m: assignment destination is read-only"
          ]
        }
      ]
    },
    {
      "cell_type": "markdown",
      "metadata": {
        "id": "8xYWKEJ5jzsW"
      },
      "source": [
        "#### 44. Consider a random 10x2 matrix representing cartesian coordinates, convert them to polar coordinates (★★☆) \n",
        "(**hint**: np.sqrt, np.arctan2)"
      ]
    },
    {
      "cell_type": "code",
      "metadata": {
        "id": "fbGt6WHxjzsW",
        "colab": {
          "base_uri": "https://localhost:8080/"
        },
        "outputId": "76b78672-0225-42f4-b349-8cb346e87a9c"
      },
      "source": [
        "a=np.random.random((10,2))\n",
        "a"
      ],
      "execution_count": 83,
      "outputs": [
        {
          "output_type": "execute_result",
          "data": {
            "text/plain": [
              "array([[0.80180374, 0.88185533],\n",
              "       [0.55330145, 0.94000344],\n",
              "       [0.07137163, 0.20391631],\n",
              "       [0.16565022, 0.7035721 ],\n",
              "       [0.30618644, 0.23649703],\n",
              "       [0.78819388, 0.25197582],\n",
              "       [0.28761352, 0.57429465],\n",
              "       [0.81118755, 0.03123229],\n",
              "       [0.80547389, 0.91302595],\n",
              "       [0.65730417, 0.52570156]])"
            ]
          },
          "metadata": {},
          "execution_count": 83
        }
      ]
    },
    {
      "cell_type": "code",
      "metadata": {
        "colab": {
          "base_uri": "https://localhost:8080/"
        },
        "id": "iFBPyJDsdDOW",
        "outputId": "4ddda7c9-9141-4356-8aad-a2dc6bb9c81a"
      },
      "source": [
        "X,Y = a[:,0], a[:,1]\n",
        "pol = np.sqrt(X**2+Y**2)\n",
        "print(pol)\n"
      ],
      "execution_count": 84,
      "outputs": [
        {
          "output_type": "stream",
          "name": "stdout",
          "text": [
            "[1.19187166 1.09075614 0.21604576 0.72280959 0.38688626 0.82749103\n",
            " 0.64228956 0.81178857 1.21754038 0.8416715 ]\n"
          ]
        }
      ]
    },
    {
      "cell_type": "markdown",
      "metadata": {
        "id": "fN57Qak7jzsW"
      },
      "source": [
        "#### 45. Create random vector of size 10 and replace the maximum value by 0 (★★☆) \n",
        "(**hint**: argmax)"
      ]
    },
    {
      "cell_type": "code",
      "metadata": {
        "id": "rTRTj-8pjzsW",
        "colab": {
          "base_uri": "https://localhost:8080/"
        },
        "outputId": "12985ac3-5666-4669-899f-891260b6a822"
      },
      "source": [
        " x=np.arange(0,10)\n",
        " x\n"
      ],
      "execution_count": 85,
      "outputs": [
        {
          "output_type": "execute_result",
          "data": {
            "text/plain": [
              "array([0, 1, 2, 3, 4, 5, 6, 7, 8, 9])"
            ]
          },
          "metadata": {},
          "execution_count": 85
        }
      ]
    },
    {
      "cell_type": "code",
      "metadata": {
        "colab": {
          "base_uri": "https://localhost:8080/"
        },
        "id": "fxNcHTmfnvd4",
        "outputId": "dd83cad0-4142-41fd-f9a8-6528a80372bd"
      },
      "source": [
        " np.argmax(x)"
      ],
      "execution_count": 86,
      "outputs": [
        {
          "output_type": "execute_result",
          "data": {
            "text/plain": [
              "9"
            ]
          },
          "metadata": {},
          "execution_count": 86
        }
      ]
    },
    {
      "cell_type": "markdown",
      "metadata": {
        "id": "yKLCw54-jzsW"
      },
      "source": [
        "#### 46. Create a structured array with `x` and `y` coordinates covering the \\[0,1\\]x\\[0,1\\] area (★★☆) \n",
        "(**hint**: np.meshgrid)"
      ]
    },
    {
      "cell_type": "code",
      "metadata": {
        "id": "_BBsVp7ejzsW",
        "colab": {
          "base_uri": "https://localhost:8080/"
        },
        "outputId": "5f51f3a7-53bb-45f0-ff7b-ed2892b10a5b"
      },
      "source": [
        "x = np.zeros((3,3), [('x',float),('y',float)])\n",
        "x['x'], x['y'] = np.meshgrid(np.linspace(0,1,3),\n",
        "                             np.linspace(0,1,3))\n",
        "x"
      ],
      "execution_count": 87,
      "outputs": [
        {
          "output_type": "execute_result",
          "data": {
            "text/plain": [
              "array([[(0. , 0. ), (0.5, 0. ), (1. , 0. )],\n",
              "       [(0. , 0.5), (0.5, 0.5), (1. , 0.5)],\n",
              "       [(0. , 1. ), (0.5, 1. ), (1. , 1. )]],\n",
              "      dtype=[('x', '<f8'), ('y', '<f8')])"
            ]
          },
          "metadata": {},
          "execution_count": 87
        }
      ]
    },
    {
      "cell_type": "markdown",
      "metadata": {
        "id": "gSwtxMWGjzsX"
      },
      "source": [
        "####  47. Given two arrays, X and Y, construct the Cauchy matrix C (Cij =1/(xi - yj)) \n",
        "(**hint**: np.subtract.outer)"
      ]
    },
    {
      "cell_type": "code",
      "metadata": {
        "id": "oE9p9AQcjzsX",
        "colab": {
          "base_uri": "https://localhost:8080/"
        },
        "outputId": "e83fd4d8-5c0c-414b-a1e7-66e817d8626e"
      },
      "source": [
        "X=np.array([1,2,3,4])\n",
        "Y=np.array([2,3,4,5])\n",
        "c=1/np.subtract.outer(X,Y)\n",
        "c"
      ],
      "execution_count": 88,
      "outputs": [
        {
          "output_type": "execute_result",
          "data": {
            "text/plain": [
              "array([[-1.        , -0.5       , -0.33333333, -0.25      ],\n",
              "       [        inf, -1.        , -0.5       , -0.33333333],\n",
              "       [ 1.        ,         inf, -1.        , -0.5       ],\n",
              "       [ 0.5       ,  1.        ,         inf, -1.        ]])"
            ]
          },
          "metadata": {},
          "execution_count": 88
        }
      ]
    },
    {
      "cell_type": "code",
      "metadata": {
        "colab": {
          "base_uri": "https://localhost:8080/"
        },
        "id": "v5ejqeqfppU-",
        "outputId": "8c71f2ba-67fa-4461-da10-5b875331ad60"
      },
      "source": [
        "np.linalg.det(c)"
      ],
      "execution_count": 89,
      "outputs": [
        {
          "output_type": "execute_result",
          "data": {
            "text/plain": [
              "inf"
            ]
          },
          "metadata": {},
          "execution_count": 89
        }
      ]
    },
    {
      "cell_type": "markdown",
      "metadata": {
        "id": "2Kckgo0rjzsX"
      },
      "source": [
        "#### 48. Print the minimum and maximum representable value for each numpy scalar type (★★☆) \n",
        "(**hint**: np.iinfo, np.finfo, eps)"
      ]
    },
    {
      "cell_type": "code",
      "metadata": {
        "id": "IxYf3WdKjzsX",
        "colab": {
          "base_uri": "https://localhost:8080/"
        },
        "outputId": "2d7e97f3-17d0-4f7f-b564-419b188221da"
      },
      "source": [
        "for dtype in [np.int8, np.int32, np.int64]:\n",
        "   print(np.iinfo(dtype).min)\n",
        "   print(np.iinfo(dtype).max)\n",
        "for dtype in [np.float32, np.float64]:\n",
        "   print(np.finfo(dtype).min)\n",
        "   print(np.finfo(dtype).max)\n",
        "   print(np.finfo(dtype).eps)"
      ],
      "execution_count": 90,
      "outputs": [
        {
          "output_type": "stream",
          "name": "stdout",
          "text": [
            "-128\n",
            "127\n",
            "-2147483648\n",
            "2147483647\n",
            "-9223372036854775808\n",
            "9223372036854775807\n",
            "-3.4028235e+38\n",
            "3.4028235e+38\n",
            "1.1920929e-07\n",
            "-1.7976931348623157e+308\n",
            "1.7976931348623157e+308\n",
            "2.220446049250313e-16\n"
          ]
        }
      ]
    },
    {
      "cell_type": "markdown",
      "metadata": {
        "id": "AIdRXJxJjzsX"
      },
      "source": [
        "#### 49. How to print all the values of an array? (★★☆) \n",
        "(**hint**: np.set\\_printoptions)"
      ]
    },
    {
      "cell_type": "code",
      "metadata": {
        "id": "BKmQK_lxjzsX",
        "colab": {
          "base_uri": "https://localhost:8080/"
        },
        "outputId": "86f5ce18-67f2-4ced-9383-cad81c15f06e"
      },
      "source": [
        "\n",
        "x = np.zeros((16,16))\n",
        "x\n"
      ],
      "execution_count": 91,
      "outputs": [
        {
          "output_type": "execute_result",
          "data": {
            "text/plain": [
              "array([[0., 0., 0., 0., 0., 0., 0., 0., 0., 0., 0., 0., 0., 0., 0., 0.],\n",
              "       [0., 0., 0., 0., 0., 0., 0., 0., 0., 0., 0., 0., 0., 0., 0., 0.],\n",
              "       [0., 0., 0., 0., 0., 0., 0., 0., 0., 0., 0., 0., 0., 0., 0., 0.],\n",
              "       [0., 0., 0., 0., 0., 0., 0., 0., 0., 0., 0., 0., 0., 0., 0., 0.],\n",
              "       [0., 0., 0., 0., 0., 0., 0., 0., 0., 0., 0., 0., 0., 0., 0., 0.],\n",
              "       [0., 0., 0., 0., 0., 0., 0., 0., 0., 0., 0., 0., 0., 0., 0., 0.],\n",
              "       [0., 0., 0., 0., 0., 0., 0., 0., 0., 0., 0., 0., 0., 0., 0., 0.],\n",
              "       [0., 0., 0., 0., 0., 0., 0., 0., 0., 0., 0., 0., 0., 0., 0., 0.],\n",
              "       [0., 0., 0., 0., 0., 0., 0., 0., 0., 0., 0., 0., 0., 0., 0., 0.],\n",
              "       [0., 0., 0., 0., 0., 0., 0., 0., 0., 0., 0., 0., 0., 0., 0., 0.],\n",
              "       [0., 0., 0., 0., 0., 0., 0., 0., 0., 0., 0., 0., 0., 0., 0., 0.],\n",
              "       [0., 0., 0., 0., 0., 0., 0., 0., 0., 0., 0., 0., 0., 0., 0., 0.],\n",
              "       [0., 0., 0., 0., 0., 0., 0., 0., 0., 0., 0., 0., 0., 0., 0., 0.],\n",
              "       [0., 0., 0., 0., 0., 0., 0., 0., 0., 0., 0., 0., 0., 0., 0., 0.],\n",
              "       [0., 0., 0., 0., 0., 0., 0., 0., 0., 0., 0., 0., 0., 0., 0., 0.],\n",
              "       [0., 0., 0., 0., 0., 0., 0., 0., 0., 0., 0., 0., 0., 0., 0., 0.]])"
            ]
          },
          "metadata": {},
          "execution_count": 91
        }
      ]
    },
    {
      "cell_type": "markdown",
      "metadata": {
        "id": "H2GjHoxRjzsY"
      },
      "source": [
        "#### 50. How to find the closest value (to a given scalar) in a vector? (★★☆) \n",
        "(**hint**: argmin)"
      ]
    },
    {
      "cell_type": "code",
      "metadata": {
        "id": "XHZfx0qMjzsY",
        "colab": {
          "base_uri": "https://localhost:8080/"
        },
        "outputId": "b67445c7-c465-4759-dbff-d3a96242cdc1"
      },
      "source": [
        "a = np.arange(100)\n",
        "b = np.random.uniform(0,100)\n",
        "index = (np.abs(a-b)).argmin()\n",
        "print(a[index])"
      ],
      "execution_count": 92,
      "outputs": [
        {
          "output_type": "stream",
          "name": "stdout",
          "text": [
            "69\n"
          ]
        }
      ]
    },
    {
      "cell_type": "markdown",
      "metadata": {
        "id": "nw-migEAjzsY"
      },
      "source": [
        "#### 51. Create a structured array representing a position (x,y) and a color (r,\n",
        "\n",
        "\n",
        "\n",
        "g,b) (★★☆) \n",
        "(**hint**: dtype)"
      ]
    },
    {
      "cell_type": "code",
      "metadata": {
        "id": "wMyCjCY7jzsY",
        "colab": {
          "base_uri": "https://localhost:8080/"
        },
        "outputId": "82aefea1-b760-49f5-a880-ffc3a0852f0e"
      },
      "source": [
        "colour_rep = np.zeros(10, [ ('POS', [ ('X', float, 1),('Y', float, 1)]),\n",
        "                            ('CLR',    [ ('R', float, 1),('G', float, 1),('B', float, 1)])])\n",
        "colour_rep"
      ],
      "execution_count": 93,
      "outputs": [
        {
          "output_type": "stream",
          "name": "stderr",
          "text": [
            "/usr/local/lib/python3.7/dist-packages/ipykernel_launcher.py:2: FutureWarning: Passing (type, 1) or '1type' as a synonym of type is deprecated; in a future version of numpy, it will be understood as (type, (1,)) / '(1,)type'.\n",
            "  \n"
          ]
        },
        {
          "output_type": "execute_result",
          "data": {
            "text/plain": [
              "array([((0., 0.), (0., 0., 0.)), ((0., 0.), (0., 0., 0.)),\n",
              "       ((0., 0.), (0., 0., 0.)), ((0., 0.), (0., 0., 0.)),\n",
              "       ((0., 0.), (0., 0., 0.)), ((0., 0.), (0., 0., 0.)),\n",
              "       ((0., 0.), (0., 0., 0.)), ((0., 0.), (0., 0., 0.)),\n",
              "       ((0., 0.), (0., 0., 0.)), ((0., 0.), (0., 0., 0.))],\n",
              "      dtype=[('POS', [('X', '<f8'), ('Y', '<f8')]), ('CLR', [('R', '<f8'), ('G', '<f8'), ('B', '<f8')])])"
            ]
          },
          "metadata": {},
          "execution_count": 93
        }
      ]
    },
    {
      "cell_type": "markdown",
      "metadata": {
        "id": "PJhlDX62jzsY"
      },
      "source": [
        "#### 52. Consider a random vector with shape (100,2) representing coordinates, find point by point distances (★★☆) \n",
        "(**hint**: np.atleast\\_2d, T, np.sqrt)"
      ]
    },
    {
      "cell_type": "code",
      "metadata": {
        "id": "_9Eq8wU5jzsY",
        "colab": {
          "base_uri": "https://localhost:8080/"
        },
        "outputId": "2390040d-0c58-4c70-b51c-090e13645083"
      },
      "source": [
        "print(\"NORMAL METHOD \")\n",
        "print(\" \")\n",
        "A = np.random.random((10,2))\n",
        "X,Y = np.atleast_2d(A[:,0], A[:,1])\n",
        "D = np.sqrt( (X-X.T)**2 + (Y-Y.T)**2)\n",
        "print(D)\n",
        "print(\" \")\n",
        "\n",
        "\n",
        "print(\"USING SKLEARN METHOD \")\n",
        "print(\" \")\n",
        "import scipy.spatial\n",
        "D = scipy.spatial.distance.cdist(A,A)\n",
        "print(D)"
      ],
      "execution_count": 94,
      "outputs": [
        {
          "output_type": "stream",
          "name": "stdout",
          "text": [
            "NORMAL METHOD \n",
            " \n",
            "[[0.         0.51981514 0.10933541 0.81865314 0.95370888 0.81187002\n",
            "  0.67769707 0.79211086 0.5236035  0.72175211]\n",
            " [0.51981514 0.         0.41520577 0.65854563 0.67487853 0.92696461\n",
            "  0.77504418 0.32578977 0.3705561  0.70794309]\n",
            " [0.10933541 0.41520577 0.         0.78523141 0.90077387 0.83833886\n",
            "  0.69492196 0.7007476  0.47242312 0.71540291]\n",
            " [0.81865314 0.65854563 0.78523141 0.         0.20939429 0.44642427\n",
            "  0.3636243  0.5175415  0.32458133 0.20865601]\n",
            " [0.95370888 0.67487853 0.90077387 0.20939429 0.         0.6487696\n",
            "  0.57301495 0.43744158 0.43048675 0.41804759]\n",
            " [0.81187002 0.92696461 0.83833886 0.44642427 0.6487696  0.\n",
            "  0.15354989 0.91111766 0.56389063 0.25551104]\n",
            " [0.67769707 0.77504418 0.69492196 0.3636243  0.57301495 0.15354989\n",
            "  0.         0.77892702 0.41613699 0.15502051]\n",
            " [0.79211086 0.32578977 0.7007476  0.5175415  0.43744158 0.91111766\n",
            "  0.77892702 0.         0.39165061 0.65771886]\n",
            " [0.5236035  0.3705561  0.47242312 0.32458133 0.43048675 0.56389063\n",
            "  0.41613699 0.39165061 0.         0.33740213]\n",
            " [0.72175211 0.70794309 0.71540291 0.20865601 0.41804759 0.25551104\n",
            "  0.15502051 0.65771886 0.33740213 0.        ]]\n",
            " \n",
            "USING SKLEARN METHOD \n",
            " \n",
            "[[0.         0.51981514 0.10933541 0.81865314 0.95370888 0.81187002\n",
            "  0.67769707 0.79211086 0.5236035  0.72175211]\n",
            " [0.51981514 0.         0.41520577 0.65854563 0.67487853 0.92696461\n",
            "  0.77504418 0.32578977 0.3705561  0.70794309]\n",
            " [0.10933541 0.41520577 0.         0.78523141 0.90077387 0.83833886\n",
            "  0.69492196 0.7007476  0.47242312 0.71540291]\n",
            " [0.81865314 0.65854563 0.78523141 0.         0.20939429 0.44642427\n",
            "  0.3636243  0.5175415  0.32458133 0.20865601]\n",
            " [0.95370888 0.67487853 0.90077387 0.20939429 0.         0.6487696\n",
            "  0.57301495 0.43744158 0.43048675 0.41804759]\n",
            " [0.81187002 0.92696461 0.83833886 0.44642427 0.6487696  0.\n",
            "  0.15354989 0.91111766 0.56389063 0.25551104]\n",
            " [0.67769707 0.77504418 0.69492196 0.3636243  0.57301495 0.15354989\n",
            "  0.         0.77892702 0.41613699 0.15502051]\n",
            " [0.79211086 0.32578977 0.7007476  0.5175415  0.43744158 0.91111766\n",
            "  0.77892702 0.         0.39165061 0.65771886]\n",
            " [0.5236035  0.3705561  0.47242312 0.32458133 0.43048675 0.56389063\n",
            "  0.41613699 0.39165061 0.         0.33740213]\n",
            " [0.72175211 0.70794309 0.71540291 0.20865601 0.41804759 0.25551104\n",
            "  0.15502051 0.65771886 0.33740213 0.        ]]\n"
          ]
        }
      ]
    },
    {
      "cell_type": "markdown",
      "metadata": {
        "id": "XFiEiQaFjzsZ"
      },
      "source": [
        "#### 53. How to convert a float (32 bits) array into an integer (32 bits) in place? \n",
        "(**hint**: astype(copy=False))"
      ]
    },
    {
      "cell_type": "code",
      "metadata": {
        "id": "YIbsRFTdjzsZ",
        "colab": {
          "base_uri": "https://localhost:8080/"
        },
        "outputId": "4252fb58-5c22-4922-cd18-d02348f9c148"
      },
      "source": [
        "X=(np.random.rand(30)*50).astype(float32)\n",
        "X,X.dtype\n"
      ],
      "execution_count": 95,
      "outputs": [
        {
          "output_type": "execute_result",
          "data": {
            "text/plain": [
              "(array([12.170144  , 42.834465  , 15.894835  , 17.934214  ,  8.035187  ,\n",
              "        25.772331  , 21.200035  , 24.92928   ,  5.604413  , 30.681063  ,\n",
              "        22.917122  ,  2.9483933 ,  0.5850905 ,  8.242385  ,  0.47457588,\n",
              "        39.454388  , 19.8022    , 33.607403  , 23.564627  , 28.194681  ,\n",
              "        48.452927  , 41.635525  , 14.460827  , 26.306452  , 10.315717  ,\n",
              "        24.19441   , 24.580404  , 40.109276  , 13.324302  , 36.99484   ],\n",
              "       dtype=float32), dtype('float32'))"
            ]
          },
          "metadata": {},
          "execution_count": 95
        }
      ]
    },
    {
      "cell_type": "code",
      "metadata": {
        "id": "QWLyEGFmnpPW"
      },
      "source": [
        "X=X.astype(int32)"
      ],
      "execution_count": 96,
      "outputs": []
    },
    {
      "cell_type": "code",
      "metadata": {
        "colab": {
          "base_uri": "https://localhost:8080/"
        },
        "id": "_TK8OTlSnv57",
        "outputId": "e2940c2b-eeb1-40be-e270-6e3d2fa696ea"
      },
      "source": [
        "X"
      ],
      "execution_count": 97,
      "outputs": [
        {
          "output_type": "execute_result",
          "data": {
            "text/plain": [
              "array([12, 42, 15, 17,  8, 25, 21, 24,  5, 30, 22,  2,  0,  8,  0, 39, 19,\n",
              "       33, 23, 28, 48, 41, 14, 26, 10, 24, 24, 40, 13, 36], dtype=int32)"
            ]
          },
          "metadata": {},
          "execution_count": 97
        }
      ]
    },
    {
      "cell_type": "markdown",
      "metadata": {
        "id": "9lWYrArFjzsZ"
      },
      "source": [
        "#### 54. How to read the following file? (★★☆) \n",
        "(**hint**: np.genfromtxt)"
      ]
    },
    {
      "cell_type": "markdown",
      "metadata": {
        "id": "B1LW44UMjzsZ"
      },
      "source": [
        "```\n",
        "1, 2, 3, 4, 5\n",
        "6,  ,  , 7, 8\n",
        " ,  , 9,10,11\n",
        "```"
      ]
    },
    {
      "cell_type": "code",
      "metadata": {
        "id": "0iU6LCDkjzsZ",
        "colab": {
          "base_uri": "https://localhost:8080/"
        },
        "outputId": "23f066b6-a0ff-4ea2-875c-bfa466320f1a"
      },
      "source": [
        "from io import StringIO\n",
        "\n",
        "string = StringIO('''1, 2, 3, 4, 5\n",
        "\n",
        "                6,  ,  , 7, 8\n",
        "\n",
        "                 ,  , 9,10,11 ''')\n",
        "x = np.genfromtxt(string, delimiter=\",\", dtype=np.int)\n",
        "x"
      ],
      "execution_count": 98,
      "outputs": [
        {
          "output_type": "execute_result",
          "data": {
            "text/plain": [
              "array([[ 1,  2,  3,  4,  5],\n",
              "       [ 6, -1, -1,  7,  8],\n",
              "       [-1, -1,  9, 10, 11]])"
            ]
          },
          "metadata": {},
          "execution_count": 98
        }
      ]
    },
    {
      "cell_type": "markdown",
      "metadata": {
        "id": "-kklilI7jzsZ"
      },
      "source": [
        "#### 55. What is the equivalent of enumerate for numpy arrays? (★★☆) \n",
        "(**hint**: np.ndenumerate, np.ndindex)"
      ]
    },
    {
      "cell_type": "code",
      "metadata": {
        "id": "BDxFFLT1jzsa",
        "colab": {
          "base_uri": "https://localhost:8080/"
        },
        "outputId": "5bead318-ab07-4730-fe2b-74c8823cfb37"
      },
      "source": [
        "X = np.arange(9).reshape(3,3)\n",
        "X"
      ],
      "execution_count": 99,
      "outputs": [
        {
          "output_type": "execute_result",
          "data": {
            "text/plain": [
              "array([[0, 1, 2],\n",
              "       [3, 4, 5],\n",
              "       [6, 7, 8]])"
            ]
          },
          "metadata": {},
          "execution_count": 99
        }
      ]
    },
    {
      "cell_type": "code",
      "metadata": {
        "colab": {
          "base_uri": "https://localhost:8080/"
        },
        "id": "KTbg2p2Lt5Dy",
        "outputId": "735259c1-68e2-49c4-aed3-0405c7755651"
      },
      "source": [
        "for i in np.ndenumerate(X):\n",
        "  print(i)"
      ],
      "execution_count": 100,
      "outputs": [
        {
          "output_type": "stream",
          "name": "stdout",
          "text": [
            "((0, 0), 0)\n",
            "((0, 1), 1)\n",
            "((0, 2), 2)\n",
            "((1, 0), 3)\n",
            "((1, 1), 4)\n",
            "((1, 2), 5)\n",
            "((2, 0), 6)\n",
            "((2, 1), 7)\n",
            "((2, 2), 8)\n"
          ]
        }
      ]
    },
    {
      "cell_type": "code",
      "metadata": {
        "colab": {
          "base_uri": "https://localhost:8080/"
        },
        "id": "eJgzui9EuaP2",
        "outputId": "4260a018-1533-4526-9368-13e0d48d7efd"
      },
      "source": [
        "for i in np.ndindex(X.shape):\n",
        "  print(i,X[i])"
      ],
      "execution_count": 101,
      "outputs": [
        {
          "output_type": "stream",
          "name": "stdout",
          "text": [
            "(0, 0) 0\n",
            "(0, 1) 1\n",
            "(0, 2) 2\n",
            "(1, 0) 3\n",
            "(1, 1) 4\n",
            "(1, 2) 5\n",
            "(2, 0) 6\n",
            "(2, 1) 7\n",
            "(2, 2) 8\n"
          ]
        }
      ]
    },
    {
      "cell_type": "markdown",
      "metadata": {
        "id": "ubJQJSecjzsa"
      },
      "source": [
        "#### 56. Generate a generic 2D Gaussian-like array (★★☆) \n",
        "(**hint**: np.meshgrid, np.exp)"
      ]
    },
    {
      "cell_type": "code",
      "metadata": {
        "id": "FmD_EV9Ljzsa",
        "colab": {
          "base_uri": "https://localhost:8080/"
        },
        "outputId": "cc98c4bc-43ec-4655-9e46-701e0b870aca"
      },
      "source": [
        "X, Y = np.meshgrid(np.linspace(-1,1,5), np.linspace(-1,1,5))\n",
        "D = np.sqrt(X*X+Y*Y)\n",
        "sigma, mu = 2.0, 0.5\n",
        "G = np.exp(-( (D-mu)**2 / ( 2.0 * sigma**2 ) ) )\n",
        "print(G)"
      ],
      "execution_count": 102,
      "outputs": [
        {
          "output_type": "stream",
          "name": "stdout",
          "text": [
            "[[0.90079884 0.95337615 0.96923323 0.95337615 0.90079884]\n",
            " [0.95337615 0.9946527  1.         0.9946527  0.95337615]\n",
            " [0.96923323 1.         0.96923323 1.         0.96923323]\n",
            " [0.95337615 0.9946527  1.         0.9946527  0.95337615]\n",
            " [0.90079884 0.95337615 0.96923323 0.95337615 0.90079884]]\n"
          ]
        }
      ]
    },
    {
      "cell_type": "markdown",
      "metadata": {
        "id": "c0a9tpKyjzsa"
      },
      "source": [
        "#### 57. How to randomly place p elements in a 2D array? (★★☆) \n",
        "(**hint**: np.put, np.random.choice)"
      ]
    },
    {
      "cell_type": "code",
      "metadata": {
        "id": "7KF8mnt0jzsa",
        "colab": {
          "base_uri": "https://localhost:8080/"
        },
        "outputId": "9f3c894c-e21d-4a56-f119-a99b4f1344e5"
      },
      "source": [
        "n = 5\n",
        "p = 5\n",
        "x = np.zeros((n,n))\n",
        "np.put(x, np.random.choice(range(n*n), p, ),2)\n",
        "x"
      ],
      "execution_count": 103,
      "outputs": [
        {
          "output_type": "execute_result",
          "data": {
            "text/plain": [
              "array([[0., 0., 0., 0., 0.],\n",
              "       [2., 0., 2., 0., 2.],\n",
              "       [0., 0., 0., 0., 0.],\n",
              "       [0., 0., 0., 2., 0.],\n",
              "       [0., 0., 2., 0., 0.]])"
            ]
          },
          "metadata": {},
          "execution_count": 103
        }
      ]
    },
    {
      "cell_type": "markdown",
      "metadata": {
        "id": "vcFuMgKgjzsa"
      },
      "source": [
        "#### 58. Subtract the mean of each row of a matrix (★★☆) \n",
        "(**hint**: mean(axis=,keepdims=))"
      ]
    },
    {
      "cell_type": "code",
      "metadata": {
        "id": "13raJa8ujzsa",
        "colab": {
          "base_uri": "https://localhost:8080/"
        },
        "outputId": "47927074-a2c2-4b50-cf13-bd104d5fd0c5"
      },
      "source": [
        "X = np.random.rand(5, 10)\n",
        "X"
      ],
      "execution_count": 104,
      "outputs": [
        {
          "output_type": "execute_result",
          "data": {
            "text/plain": [
              "array([[0.61572157, 0.86040998, 0.0425217 , 0.83170023, 0.9587647 ,\n",
              "        0.91330437, 0.17261172, 0.32272788, 0.91490408, 0.44775425],\n",
              "       [0.54398702, 0.14199182, 0.34699888, 0.03210566, 0.34105601,\n",
              "        0.2317417 , 0.23821614, 0.18382055, 0.93438342, 0.02585935],\n",
              "       [0.93802166, 0.10513873, 0.16803487, 0.82809138, 0.68743152,\n",
              "        0.09109362, 0.5640228 , 0.90593475, 0.43080457, 0.29708427],\n",
              "       [0.18810795, 0.72717717, 0.3325116 , 0.23993172, 0.54633768,\n",
              "        0.12599452, 0.97846665, 0.30239644, 0.23441713, 0.61572478],\n",
              "       [0.79060336, 0.28980105, 0.71472846, 0.07550059, 0.85421763,\n",
              "        0.03977496, 0.90274126, 0.61121253, 0.97334555, 0.51014801]])"
            ]
          },
          "metadata": {},
          "execution_count": 104
        }
      ]
    },
    {
      "cell_type": "code",
      "metadata": {
        "colab": {
          "base_uri": "https://localhost:8080/"
        },
        "id": "_16A45Ch7MPz",
        "outputId": "88559ae0-bc98-4bf0-f26a-f5753bd704ea"
      },
      "source": [
        "Y = X - X.mean(axis=1, keepdims=True)\n",
        "\n",
        "Y"
      ],
      "execution_count": 105,
      "outputs": [
        {
          "output_type": "execute_result",
          "data": {
            "text/plain": [
              "array([[ 0.00767952,  0.25236793, -0.56552034,  0.22365818,  0.35072265,\n",
              "         0.30526233, -0.43543033, -0.28531417,  0.30686203, -0.1602878 ],\n",
              "       [ 0.24197096, -0.16002423,  0.04498282, -0.26991039,  0.03903995,\n",
              "        -0.07027435, -0.06379991, -0.11819551,  0.63236737, -0.2761567 ],\n",
              "       [ 0.43645584, -0.39642709, -0.33353095,  0.32652556,  0.1858657 ,\n",
              "        -0.4104722 ,  0.06245699,  0.40436893, -0.07076124, -0.20448155],\n",
              "       [-0.24099862,  0.29807061, -0.09659497, -0.18917484,  0.11723111,\n",
              "        -0.30311204,  0.54936009, -0.12671012, -0.19468943,  0.18661821],\n",
              "       [ 0.21439602, -0.28640629,  0.13852112, -0.50070675,  0.27801029,\n",
              "        -0.53643238,  0.32653392,  0.03500519,  0.39713821, -0.06605933]])"
            ]
          },
          "metadata": {},
          "execution_count": 105
        }
      ]
    },
    {
      "cell_type": "markdown",
      "metadata": {
        "id": "ir8ZKlSfjzsb"
      },
      "source": [
        "#### 59. How to sort an array by the nth column? (★★☆) \n",
        "(**hint**: argsort)"
      ]
    },
    {
      "cell_type": "code",
      "metadata": {
        "id": "JtAqIkF5jzsb",
        "colab": {
          "base_uri": "https://localhost:8080/"
        },
        "outputId": "5756726e-3223-4da6-dfe1-1de69384afec"
      },
      "source": [
        "\n",
        "x = np.random.randint(0,100,(3,3))\n",
        "x\n",
        "\n"
      ],
      "execution_count": 106,
      "outputs": [
        {
          "output_type": "execute_result",
          "data": {
            "text/plain": [
              "array([[69, 58, 30],\n",
              "       [ 7,  8, 59],\n",
              "       [63, 27, 71]])"
            ]
          },
          "metadata": {},
          "execution_count": 106
        }
      ]
    },
    {
      "cell_type": "code",
      "metadata": {
        "colab": {
          "base_uri": "https://localhost:8080/"
        },
        "id": "RWrICseP4A9X",
        "outputId": "3239a726-72a3-43db-f678-e0e42f33ff5c"
      },
      "source": [
        "print(x[x[:,0].argsort()])"
      ],
      "execution_count": 107,
      "outputs": [
        {
          "output_type": "stream",
          "name": "stdout",
          "text": [
            "[[ 7  8 59]\n",
            " [63 27 71]\n",
            " [69 58 30]]\n"
          ]
        }
      ]
    },
    {
      "cell_type": "markdown",
      "metadata": {
        "id": "XYsv04nLjzsb"
      },
      "source": [
        "#### 60. How to tell if a given 2D array has null columns? (★★☆) \n",
        "(**hint**: any, ~)"
      ]
    },
    {
      "cell_type": "markdown",
      "metadata": {
        "id": "BoF1noKc9JoM"
      },
      "source": [
        "USING NUMPY FUNCTION"
      ]
    },
    {
      "cell_type": "code",
      "metadata": {
        "id": "Qcncnqjvjzsb",
        "colab": {
          "base_uri": "https://localhost:8080/"
        },
        "outputId": "e7a86242-6bdd-44ae-8c45-661746edd9ee"
      },
      "source": [
        "Z = np.random.randint(0,3,(3,10))\n",
        "print((~Z.any(axis=0)).any())"
      ],
      "execution_count": 108,
      "outputs": [
        {
          "output_type": "stream",
          "name": "stdout",
          "text": [
            "True\n"
          ]
        }
      ]
    },
    {
      "cell_type": "code",
      "metadata": {
        "colab": {
          "base_uri": "https://localhost:8080/"
        },
        "id": "cbUsotQk8EOO",
        "outputId": "c63fed97-607d-4409-b4c2-0cea45449132"
      },
      "source": [
        "Z"
      ],
      "execution_count": 109,
      "outputs": [
        {
          "output_type": "execute_result",
          "data": {
            "text/plain": [
              "array([[2, 0, 2, 1, 0, 0, 1, 0, 0, 1],\n",
              "       [0, 2, 1, 2, 2, 1, 2, 1, 0, 1],\n",
              "       [0, 0, 2, 2, 0, 0, 2, 1, 0, 0]])"
            ]
          },
          "metadata": {},
          "execution_count": 109
        }
      ]
    },
    {
      "cell_type": "markdown",
      "metadata": {
        "id": "9DJi3c6P9Q4O"
      },
      "source": [
        "USING CONVENTIONAL METHOD"
      ]
    },
    {
      "cell_type": "code",
      "metadata": {
        "colab": {
          "base_uri": "https://localhost:8080/"
        },
        "id": "BC9TX7Pt7lrP",
        "outputId": "ea3a7e43-c3bf-4d4d-dbf7-55ca2305464a"
      },
      "source": [
        "if 0 in Z:\n",
        "  print(True)\n",
        "else:\n",
        "  print(False)\n"
      ],
      "execution_count": 110,
      "outputs": [
        {
          "output_type": "stream",
          "name": "stdout",
          "text": [
            "True\n"
          ]
        }
      ]
    },
    {
      "cell_type": "markdown",
      "metadata": {
        "id": "dK5JWt7Tjzsb"
      },
      "source": [
        "#### 61. Find the nearest value from a given value in an array (★★☆) \n",
        "(**hint**: np.abs, argmin, flat)"
      ]
    },
    {
      "cell_type": "code",
      "metadata": {
        "id": "zvzh7ZsDjzse",
        "colab": {
          "base_uri": "https://localhost:8080/"
        },
        "outputId": "21ad0ad9-0585-4054-fc9d-9419207402ea"
      },
      "source": [
        "X = np.random.uniform(0,10,100)\n",
        "z = 5\n",
        "N = X.flat[np.abs(X - z).argmin()]\n",
        "print(N)"
      ],
      "execution_count": 111,
      "outputs": [
        {
          "output_type": "stream",
          "name": "stdout",
          "text": [
            "4.9866418259784275\n"
          ]
        }
      ]
    },
    {
      "cell_type": "markdown",
      "metadata": {
        "id": "BR4PAOWijzse"
      },
      "source": [
        "#### 62. Considering two arrays with shape (1,3) and (3,1), how to compute their sum using an iterator? (★★☆) \n",
        "(**hint**: np.nditer)"
      ]
    },
    {
      "cell_type": "code",
      "metadata": {
        "id": "z_qq4hZWjzsf"
      },
      "source": [
        "a=np.arange(0,3).reshape(1,3)\n",
        "b=np.arange(0,3).reshape(3,1)\n"
      ],
      "execution_count": 112,
      "outputs": []
    },
    {
      "cell_type": "code",
      "metadata": {
        "colab": {
          "base_uri": "https://localhost:8080/"
        },
        "id": "zG22N9gv_CtO",
        "outputId": "6498a4b0-7e8d-47d5-8fb9-2d4429f8eacc"
      },
      "source": [
        "a"
      ],
      "execution_count": 113,
      "outputs": [
        {
          "output_type": "execute_result",
          "data": {
            "text/plain": [
              "array([[0, 1, 2]])"
            ]
          },
          "metadata": {},
          "execution_count": 113
        }
      ]
    },
    {
      "cell_type": "code",
      "metadata": {
        "colab": {
          "base_uri": "https://localhost:8080/"
        },
        "id": "9330bHsM_G3r",
        "outputId": "4fc52050-6d11-48fc-b932-cf4e3119913c"
      },
      "source": [
        "b"
      ],
      "execution_count": 114,
      "outputs": [
        {
          "output_type": "execute_result",
          "data": {
            "text/plain": [
              "array([[0],\n",
              "       [1],\n",
              "       [2]])"
            ]
          },
          "metadata": {},
          "execution_count": 114
        }
      ]
    },
    {
      "cell_type": "code",
      "metadata": {
        "colab": {
          "base_uri": "https://localhost:8080/"
        },
        "id": "D1SCWZuX_Ibv",
        "outputId": "508e2001-bfca-4cf7-f623-9b20a4ba166c"
      },
      "source": [
        "summ=np.nditer([a,b,None])\n",
        "for x,y,z in summ: z[...] = x + y\n",
        "print(summ.operands[2])"
      ],
      "execution_count": 115,
      "outputs": [
        {
          "output_type": "stream",
          "name": "stdout",
          "text": [
            "[[0 1 2]\n",
            " [1 2 3]\n",
            " [2 3 4]]\n"
          ]
        }
      ]
    },
    {
      "cell_type": "markdown",
      "metadata": {
        "id": "VmfW4Kg_jzsf"
      },
      "source": [
        "#### 63. Create an array class that has a name attribute (★★☆) \n",
        "(**hint**: class method)"
      ]
    },
    {
      "cell_type": "code",
      "metadata": {
        "id": "DUxFbwJXjzsf"
      },
      "source": [
        ""
      ],
      "execution_count": 115,
      "outputs": []
    },
    {
      "cell_type": "markdown",
      "metadata": {
        "id": "NitnATZljzsf"
      },
      "source": [
        "#### 64. Consider a given vector, how to add 1 to each element indexed by a second vector (be careful with repeated indices)? (★★★) \n",
        "(**hint**: np.bincount | np.add.at)"
      ]
    },
    {
      "cell_type": "code",
      "metadata": {
        "colab": {
          "base_uri": "https://localhost:8080/"
        },
        "id": "si_YGrUbCgL7",
        "outputId": "568739e4-0c78-4699-c7a5-558f510ab287"
      },
      "source": [
        "a = np.arange(0,10).astype(int)\n",
        "b = np.arange(0,10).astype(int)\n",
        "a += np.bincount(b, minlength=len(a))\n",
        "print(a)\n",
        "\n",
        "\n"
      ],
      "execution_count": 116,
      "outputs": [
        {
          "output_type": "stream",
          "name": "stdout",
          "text": [
            "[ 1  2  3  4  5  6  7  8  9 10]\n"
          ]
        }
      ]
    },
    {
      "cell_type": "code",
      "metadata": {
        "colab": {
          "base_uri": "https://localhost:8080/"
        },
        "id": "rQvnUrw3CkVi",
        "outputId": "6df92c42-0a71-441d-8732-f82710e23d46"
      },
      "source": [
        "np.add.at(a, b, 1)\n",
        "print(a)"
      ],
      "execution_count": 117,
      "outputs": [
        {
          "output_type": "stream",
          "name": "stdout",
          "text": [
            "[ 2  3  4  5  6  7  8  9 10 11]\n"
          ]
        }
      ]
    },
    {
      "cell_type": "markdown",
      "metadata": {
        "id": "4MNv737ejzsh"
      },
      "source": [
        "#### 65. How to accumulate elements of a vector (X) to an array (F) based on an index list (I)? (★★★) \n",
        "(**hint**: np.bincount)"
      ]
    },
    {
      "cell_type": "code",
      "metadata": {
        "id": "W6UxAe62jzsh",
        "colab": {
          "base_uri": "https://localhost:8080/"
        },
        "outputId": "f4e9fdfe-24ee-4b33-f75d-035390947c3b"
      },
      "source": [
        "a = [10,20,30,40,50,100]\n",
        "b = [1,2,3,4,5,6]\n",
        "c = np.bincount(b,a).astype(int32)\n",
        "print(c)"
      ],
      "execution_count": 118,
      "outputs": [
        {
          "output_type": "stream",
          "name": "stdout",
          "text": [
            "[  0  10  20  30  40  50 100]\n"
          ]
        }
      ]
    },
    {
      "cell_type": "markdown",
      "metadata": {
        "id": "mvRgIJHdjzsh"
      },
      "source": [
        "#### 66. Considering a (w,h,3) image of (dtype=ubyte), compute the number of unique colors (★★★) \n",
        "(**hint**: np.unique)"
      ]
    },
    {
      "cell_type": "code",
      "metadata": {
        "id": "wVIPTjUjjzsh",
        "colab": {
          "base_uri": "https://localhost:8080/"
        },
        "outputId": "0ce12b81-dcb7-4352-89ae-cb9f744f7fd3"
      },
      "source": [
        "w, h = 256, 256\n",
        "I = np.random.randint(0,4,(h,w,3), dtype=np.uint8)\n",
        "clrs = np.dot(I.astype(np.uint32),[1,256,2500])\n",
        "\n",
        "count = len(np.unique(clrs))\n",
        "print(count)"
      ],
      "execution_count": 119,
      "outputs": [
        {
          "output_type": "stream",
          "name": "stdout",
          "text": [
            "64\n"
          ]
        }
      ]
    },
    {
      "cell_type": "markdown",
      "metadata": {
        "id": "CrsqsJeljzsh"
      },
      "source": [
        "#### 67. Considering a four dimensions array, how to get sum over the last two axis at once? (★★★) \n",
        "(**hint**: sum(axis=(-2,-1)))"
      ]
    },
    {
      "cell_type": "code",
      "metadata": {
        "id": "_Xa6TdZYjzsi",
        "colab": {
          "base_uri": "https://localhost:8080/"
        },
        "outputId": "0407292b-f9af-4808-8a83-3a66e7ac6b41"
      },
      "source": [
        "a= np.random.randint(0,10,(4,4,4,4))\n",
        "\n",
        "sum = a.sum(axis=(-2,-1))\n",
        "sum"
      ],
      "execution_count": 120,
      "outputs": [
        {
          "output_type": "execute_result",
          "data": {
            "text/plain": [
              "array([[86, 59, 77, 77],\n",
              "       [72, 66, 67, 61],\n",
              "       [88, 67, 86, 83],\n",
              "       [88, 90, 74, 78]])"
            ]
          },
          "metadata": {},
          "execution_count": 120
        }
      ]
    },
    {
      "cell_type": "markdown",
      "metadata": {
        "id": "MkusCXQ5jzsi"
      },
      "source": [
        "#### 68. Considering a one-dimensional vector D, how to compute means of subsets of D using a vector S of same size describing subset  indices? (★★★) \n",
        "(**hint**: np.bincount)"
      ]
    },
    {
      "cell_type": "code",
      "metadata": {
        "id": "6TVyPnKFjzsi",
        "colab": {
          "base_uri": "https://localhost:8080/"
        },
        "outputId": "538bcad2-1cb5-4291-c9e3-a877660bbe5c"
      },
      "source": [
        "D = np.arange(0,100,20)\n",
        "S = np.arange(0,100,20)\n",
        "D_sums = np.bincount(S, weights=D)\n",
        "D_sums"
      ],
      "execution_count": 121,
      "outputs": [
        {
          "output_type": "execute_result",
          "data": {
            "text/plain": [
              "array([ 0.,  0.,  0.,  0.,  0.,  0.,  0.,  0.,  0.,  0.,  0.,  0.,  0.,\n",
              "        0.,  0.,  0.,  0.,  0.,  0.,  0., 20.,  0.,  0.,  0.,  0.,  0.,\n",
              "        0.,  0.,  0.,  0.,  0.,  0.,  0.,  0.,  0.,  0.,  0.,  0.,  0.,\n",
              "        0., 40.,  0.,  0.,  0.,  0.,  0.,  0.,  0.,  0.,  0.,  0.,  0.,\n",
              "        0.,  0.,  0.,  0.,  0.,  0.,  0.,  0., 60.,  0.,  0.,  0.,  0.,\n",
              "        0.,  0.,  0.,  0.,  0.,  0.,  0.,  0.,  0.,  0.,  0.,  0.,  0.,\n",
              "        0.,  0., 80.])"
            ]
          },
          "metadata": {},
          "execution_count": 121
        }
      ]
    },
    {
      "cell_type": "code",
      "metadata": {
        "colab": {
          "base_uri": "https://localhost:8080/"
        },
        "id": "Jl_1CIcCGlnm",
        "outputId": "36702ebe-907a-4154-8e50-765f7241e449"
      },
      "source": [
        "D_counts = np.bincount(S)\n",
        "D_means = D_sums / D_counts\n",
        "print(D_means)\n"
      ],
      "execution_count": 122,
      "outputs": [
        {
          "output_type": "stream",
          "name": "stdout",
          "text": [
            "[ 0. nan nan nan nan nan nan nan nan nan nan nan nan nan nan nan nan nan\n",
            " nan nan 20. nan nan nan nan nan nan nan nan nan nan nan nan nan nan nan\n",
            " nan nan nan nan 40. nan nan nan nan nan nan nan nan nan nan nan nan nan\n",
            " nan nan nan nan nan nan 60. nan nan nan nan nan nan nan nan nan nan nan\n",
            " nan nan nan nan nan nan nan nan 80.]\n"
          ]
        }
      ]
    },
    {
      "cell_type": "markdown",
      "metadata": {
        "id": "9zywRg1Rjzsi"
      },
      "source": [
        "#### 69. How to get the diagonal of a dot product? (★★★) \n",
        "(**hint**: np.diag)"
      ]
    },
    {
      "cell_type": "code",
      "metadata": {
        "id": "bqsn3l-yjzsi"
      },
      "source": [
        "A = np.random.uniform(0,10,(3,3))\n",
        "B = np.random.uniform(0,10,(3,3))"
      ],
      "execution_count": 123,
      "outputs": []
    },
    {
      "cell_type": "code",
      "metadata": {
        "colab": {
          "base_uri": "https://localhost:8080/"
        },
        "id": "HhtysIlNLVLD",
        "outputId": "2fe7195a-313d-4bb9-f36c-36975abccabf"
      },
      "source": [
        "A"
      ],
      "execution_count": 124,
      "outputs": [
        {
          "output_type": "execute_result",
          "data": {
            "text/plain": [
              "array([[0.9126474 , 0.18286183, 1.94302579],\n",
              "       [2.42547253, 6.03186412, 4.91637606],\n",
              "       [1.52009739, 7.71133567, 0.99958742]])"
            ]
          },
          "metadata": {},
          "execution_count": 124
        }
      ]
    },
    {
      "cell_type": "code",
      "metadata": {
        "colab": {
          "base_uri": "https://localhost:8080/"
        },
        "id": "H6VafmFuLW98",
        "outputId": "0570acf9-c177-4711-ebd3-1b56468e3b1e"
      },
      "source": [
        "B"
      ],
      "execution_count": 125,
      "outputs": [
        {
          "output_type": "execute_result",
          "data": {
            "text/plain": [
              "array([[2.32442999, 8.61085807, 1.34029165],\n",
              "       [3.69265355, 8.89376502, 3.62064212],\n",
              "       [4.89511525, 5.28147091, 2.90167754]])"
            ]
          },
          "metadata": {},
          "execution_count": 125
        }
      ]
    },
    {
      "cell_type": "code",
      "metadata": {
        "colab": {
          "base_uri": "https://localhost:8080/"
        },
        "id": "ocN-anIXK-BU",
        "outputId": "ff9412f0-8ca7-4148-db04-ea3bfb029665"
      },
      "source": [
        "np.diag(np.dot(A, B))\n"
      ],
      "execution_count": 126,
      "outputs": [
        {
          "output_type": "execute_result",
          "data": {
            "text/plain": [
              "array([ 12.30796554, 100.49707897,  32.85784093])"
            ]
          },
          "metadata": {},
          "execution_count": 126
        }
      ]
    },
    {
      "cell_type": "markdown",
      "metadata": {
        "id": "9X9QPCHUjzsi"
      },
      "source": [
        "#### 70. Consider the vector \\[1, 2, 3, 4, 5\\], how to build a new vector with 3 consecutive zeros interleaved between each value? (★★★) \n",
        "(**hint**: array\\[::4\\])"
      ]
    },
    {
      "cell_type": "code",
      "metadata": {
        "id": "eCV2UET3jzsj",
        "colab": {
          "base_uri": "https://localhost:8080/"
        },
        "outputId": "d5d6650b-d0c3-4593-edee-8b25a5b9f0f3"
      },
      "source": [
        "a=[1,2,3,4,5]\n",
        "zero=3\n",
        "x=np.zeros(len(a)+(len(a)-1)*zero)\n",
        "x[::zero+1]=a\n",
        "print(x)"
      ],
      "execution_count": 127,
      "outputs": [
        {
          "output_type": "stream",
          "name": "stdout",
          "text": [
            "[1. 0. 0. 0. 2. 0. 0. 0. 3. 0. 0. 0. 4. 0. 0. 0. 5.]\n"
          ]
        }
      ]
    },
    {
      "cell_type": "markdown",
      "metadata": {
        "id": "heYFZ8cTjzsj"
      },
      "source": [
        "#### 71. Consider an array of dimension (5,5,3), how to mulitply it by an array with dimensions (5,5)? (★★★) \n",
        "(**hint**: array\\[:, :, None\\])"
      ]
    },
    {
      "cell_type": "code",
      "metadata": {
        "collapsed": true,
        "id": "7mS9f_zVjzsj",
        "colab": {
          "base_uri": "https://localhost:8080/"
        },
        "outputId": "8ca2ac0b-63f2-4d68-8a40-3db29c64c18c"
      },
      "source": [
        "A=np.ones((5,5,3))\n",
        "A"
      ],
      "execution_count": 129,
      "outputs": [
        {
          "output_type": "execute_result",
          "data": {
            "text/plain": [
              "array([[[1., 1., 1.],\n",
              "        [1., 1., 1.],\n",
              "        [1., 1., 1.],\n",
              "        [1., 1., 1.],\n",
              "        [1., 1., 1.]],\n",
              "\n",
              "       [[1., 1., 1.],\n",
              "        [1., 1., 1.],\n",
              "        [1., 1., 1.],\n",
              "        [1., 1., 1.],\n",
              "        [1., 1., 1.]],\n",
              "\n",
              "       [[1., 1., 1.],\n",
              "        [1., 1., 1.],\n",
              "        [1., 1., 1.],\n",
              "        [1., 1., 1.],\n",
              "        [1., 1., 1.]],\n",
              "\n",
              "       [[1., 1., 1.],\n",
              "        [1., 1., 1.],\n",
              "        [1., 1., 1.],\n",
              "        [1., 1., 1.],\n",
              "        [1., 1., 1.]],\n",
              "\n",
              "       [[1., 1., 1.],\n",
              "        [1., 1., 1.],\n",
              "        [1., 1., 1.],\n",
              "        [1., 1., 1.],\n",
              "        [1., 1., 1.]]])"
            ]
          },
          "metadata": {},
          "execution_count": 129
        }
      ]
    },
    {
      "cell_type": "code",
      "metadata": {
        "colab": {
          "base_uri": "https://localhost:8080/"
        },
        "id": "nzJghdUuEWZd",
        "outputId": "8581cea8-867b-4621-b6a9-3cdd3de33bbf"
      },
      "source": [
        "B=np.ones((5,5))*5\n",
        "B"
      ],
      "execution_count": 130,
      "outputs": [
        {
          "output_type": "execute_result",
          "data": {
            "text/plain": [
              "array([[5., 5., 5., 5., 5.],\n",
              "       [5., 5., 5., 5., 5.],\n",
              "       [5., 5., 5., 5., 5.],\n",
              "       [5., 5., 5., 5., 5.],\n",
              "       [5., 5., 5., 5., 5.]])"
            ]
          },
          "metadata": {},
          "execution_count": 130
        }
      ]
    },
    {
      "cell_type": "code",
      "metadata": {
        "colab": {
          "base_uri": "https://localhost:8080/"
        },
        "id": "ya21k-0vEkuT",
        "outputId": "312a56df-1c9e-4be9-da28-5bc0604f6167"
      },
      "source": [
        "C=A * B[:,:,None]\n",
        "C"
      ],
      "execution_count": 131,
      "outputs": [
        {
          "output_type": "execute_result",
          "data": {
            "text/plain": [
              "array([[[5., 5., 5.],\n",
              "        [5., 5., 5.],\n",
              "        [5., 5., 5.],\n",
              "        [5., 5., 5.],\n",
              "        [5., 5., 5.]],\n",
              "\n",
              "       [[5., 5., 5.],\n",
              "        [5., 5., 5.],\n",
              "        [5., 5., 5.],\n",
              "        [5., 5., 5.],\n",
              "        [5., 5., 5.]],\n",
              "\n",
              "       [[5., 5., 5.],\n",
              "        [5., 5., 5.],\n",
              "        [5., 5., 5.],\n",
              "        [5., 5., 5.],\n",
              "        [5., 5., 5.]],\n",
              "\n",
              "       [[5., 5., 5.],\n",
              "        [5., 5., 5.],\n",
              "        [5., 5., 5.],\n",
              "        [5., 5., 5.],\n",
              "        [5., 5., 5.]],\n",
              "\n",
              "       [[5., 5., 5.],\n",
              "        [5., 5., 5.],\n",
              "        [5., 5., 5.],\n",
              "        [5., 5., 5.],\n",
              "        [5., 5., 5.]]])"
            ]
          },
          "metadata": {},
          "execution_count": 131
        }
      ]
    },
    {
      "cell_type": "markdown",
      "metadata": {
        "id": "r9VxMSRRjzsj"
      },
      "source": [
        "#### 72. How to swap two rows of an array? (★★★) \n",
        "(**hint**: array\\[\\[\\]\\] = array\\[\\[\\]\\])"
      ]
    },
    {
      "cell_type": "code",
      "metadata": {
        "id": "neXvZj50jzsj",
        "colab": {
          "base_uri": "https://localhost:8080/"
        },
        "outputId": "8aea8470-89a7-459e-b98e-3035d95e05aa"
      },
      "source": [
        "x = np.arange(49).reshape(7,7)\n",
        "x[[0,1]] = x[[1,0]]\n",
        "x"
      ],
      "execution_count": 133,
      "outputs": [
        {
          "output_type": "execute_result",
          "data": {
            "text/plain": [
              "array([[ 7,  8,  9, 10, 11, 12, 13],\n",
              "       [ 0,  1,  2,  3,  4,  5,  6],\n",
              "       [14, 15, 16, 17, 18, 19, 20],\n",
              "       [21, 22, 23, 24, 25, 26, 27],\n",
              "       [28, 29, 30, 31, 32, 33, 34],\n",
              "       [35, 36, 37, 38, 39, 40, 41],\n",
              "       [42, 43, 44, 45, 46, 47, 48]])"
            ]
          },
          "metadata": {},
          "execution_count": 133
        }
      ]
    },
    {
      "cell_type": "markdown",
      "metadata": {
        "id": "M71qjBDwjzsj"
      },
      "source": [
        "#### 73. Consider a set of 10 triplets describing 10 triangles (with shared vertices), find the set of unique line segments composing all the  triangles (★★★) \n",
        "(**hint**: repeat, np.roll, np.sort, view, np.unique)"
      ]
    },
    {
      "cell_type": "code",
      "metadata": {
        "id": "C1w54SORjzsj"
      },
      "source": [
        ""
      ],
      "execution_count": null,
      "outputs": []
    },
    {
      "cell_type": "markdown",
      "metadata": {
        "id": "anVYJGjojzsk"
      },
      "source": [
        "#### 74. Given an array C that is a bincount, how to produce an array A such that np.bincount(A) == C? (★★★) \n",
        "(**hint**: np.repeat)"
      ]
    },
    {
      "cell_type": "code",
      "metadata": {
        "id": "wpO-9BiXjzsk",
        "colab": {
          "base_uri": "https://localhost:8080/"
        },
        "outputId": "bb8f73af-78a3-445f-afd2-7df8aed248e1"
      },
      "source": [
        "A= np.bincount([2,5,6,7,9,8])\n",
        "C = np.repeat(np.arange(len(A)), A)\n",
        "C"
      ],
      "execution_count": 134,
      "outputs": [
        {
          "output_type": "execute_result",
          "data": {
            "text/plain": [
              "array([2, 5, 6, 7, 8, 9])"
            ]
          },
          "metadata": {},
          "execution_count": 134
        }
      ]
    },
    {
      "cell_type": "markdown",
      "metadata": {
        "id": "CwncCJBAjzsk"
      },
      "source": [
        "#### 75. How to compute averages using a sliding window over an array? (★★★) \n",
        "(**hint**: np.cumsum)"
      ]
    },
    {
      "cell_type": "code",
      "metadata": {
        "id": "dnfFukZijzsk",
        "colab": {
          "base_uri": "https://localhost:8080/"
        },
        "outputId": "833a756d-80f6-4a18-c4cb-d62bfba0668d"
      },
      "source": [
        "a=[1,2,3,4,5]\n",
        "print(np.cumsum(a).mean())"
      ],
      "execution_count": 138,
      "outputs": [
        {
          "output_type": "stream",
          "name": "stdout",
          "text": [
            "7.0\n"
          ]
        }
      ]
    },
    {
      "cell_type": "markdown",
      "metadata": {
        "id": "6oHTiamojzsk"
      },
      "source": [
        "#### 76. Consider a one-dimensional array Z, build a two-dimensional array whose first row is (Z\\[0\\],Z\\[1\\],Z\\[2\\]) and each subsequent row is  shifted by 1 (last row should be (Z\\[-3\\],Z\\[-2\\],Z\\[-1\\]) (★★★) \n",
        "(**hint**: from numpy.lib import stride_tricks)"
      ]
    },
    {
      "cell_type": "code",
      "metadata": {
        "id": "PLxcRy7Bjzsk",
        "colab": {
          "base_uri": "https://localhost:8080/"
        },
        "outputId": "ae36c7a4-93e1-438f-d121-dc87b054c1f4"
      },
      "source": [
        "from numpy.lib import stride_tricks\n",
        "def roll(a, w):\n",
        "    shape = (a.size - w + 1, w)\n",
        "    strides = (a.itemsize, a.itemsize)\n",
        "    return stride_tricks.as_strided(a, shape=shape, strides=strides)\n",
        "Z = roll(np.arange(10), 3)\n",
        "print(Z)"
      ],
      "execution_count": 140,
      "outputs": [
        {
          "output_type": "stream",
          "name": "stdout",
          "text": [
            "[[0 1 2]\n",
            " [1 2 3]\n",
            " [2 3 4]\n",
            " [3 4 5]\n",
            " [4 5 6]\n",
            " [5 6 7]\n",
            " [6 7 8]\n",
            " [7 8 9]]\n"
          ]
        }
      ]
    },
    {
      "cell_type": "markdown",
      "metadata": {
        "id": "mSNzX0O1jzsk"
      },
      "source": [
        "#### 77. How to negate a boolean, or to change the sign of a float inplace? (★★★) \n",
        "(**hint**: np.logical_not, np.negative)"
      ]
    },
    {
      "cell_type": "code",
      "metadata": {
        "id": "JAipaWxVjzsl",
        "colab": {
          "base_uri": "https://localhost:8080/"
        },
        "outputId": "f721247f-9f93-4f5e-a2c4-5b1b3c3fa486"
      },
      "source": [
        "a = np.random.randint(0,2,100)\n",
        "np.logical_not(a, out=a).astype(float64)\n",
        "\n"
      ],
      "execution_count": 146,
      "outputs": [
        {
          "output_type": "execute_result",
          "data": {
            "text/plain": [
              "array([1., 1., 0., 0., 0., 0., 0., 0., 1., 0., 1., 0., 1., 1., 0., 0., 0.,\n",
              "       1., 1., 1., 1., 0., 1., 0., 1., 0., 1., 0., 0., 1., 1., 1., 1., 0.,\n",
              "       1., 0., 1., 0., 0., 0., 0., 0., 1., 0., 1., 1., 0., 1., 1., 1., 1.,\n",
              "       1., 1., 1., 0., 1., 1., 1., 0., 0., 1., 0., 0., 1., 1., 1., 0., 1.,\n",
              "       0., 0., 0., 0., 1., 0., 0., 1., 0., 0., 0., 1., 0., 1., 0., 0., 1.,\n",
              "       0., 0., 1., 0., 1., 0., 0., 1., 1., 0., 1., 1., 0., 0., 1.])"
            ]
          },
          "metadata": {},
          "execution_count": 146
        }
      ]
    },
    {
      "cell_type": "code",
      "metadata": {
        "colab": {
          "base_uri": "https://localhost:8080/"
        },
        "id": "wKuvjpTqHqNm",
        "outputId": "f57bb76a-63c3-4233-c6f9-7d06296946a0"
      },
      "source": [
        "np.negative(a, out=a).astype(float64)"
      ],
      "execution_count": 147,
      "outputs": [
        {
          "output_type": "execute_result",
          "data": {
            "text/plain": [
              "array([-1., -1.,  0.,  0.,  0.,  0.,  0.,  0., -1.,  0., -1.,  0., -1.,\n",
              "       -1.,  0.,  0.,  0., -1., -1., -1., -1.,  0., -1.,  0., -1.,  0.,\n",
              "       -1.,  0.,  0., -1., -1., -1., -1.,  0., -1.,  0., -1.,  0.,  0.,\n",
              "        0.,  0.,  0., -1.,  0., -1., -1.,  0., -1., -1., -1., -1., -1.,\n",
              "       -1., -1.,  0., -1., -1., -1.,  0.,  0., -1.,  0.,  0., -1., -1.,\n",
              "       -1.,  0., -1.,  0.,  0.,  0.,  0., -1.,  0.,  0., -1.,  0.,  0.,\n",
              "        0., -1.,  0., -1.,  0.,  0., -1.,  0.,  0., -1.,  0., -1.,  0.,\n",
              "        0., -1., -1.,  0., -1., -1.,  0.,  0., -1.])"
            ]
          },
          "metadata": {},
          "execution_count": 147
        }
      ]
    },
    {
      "cell_type": "markdown",
      "metadata": {
        "id": "VtVgmQdIjzsl"
      },
      "source": [
        "#### 78. Consider 2 sets of points P0,P1 describing lines (2d) and a point p, how to compute distance from p to each line i  (P0\\[i\\],P1\\[i\\])? (★★★)"
      ]
    },
    {
      "cell_type": "code",
      "metadata": {
        "id": "Q-AT02gSjzsl"
      },
      "source": [
        ""
      ],
      "execution_count": null,
      "outputs": []
    },
    {
      "cell_type": "markdown",
      "metadata": {
        "id": "drF1hZ2Yjzsl"
      },
      "source": [
        "#### 79. Consider 2 sets of points P0,P1 describing lines (2d) and a set of points P, how to compute distance from each point j (P\\[j\\]) to each line i (P0\\[i\\],P1\\[i\\])? (★★★)"
      ]
    },
    {
      "cell_type": "code",
      "metadata": {
        "id": "IyZmrsH_jzsl"
      },
      "source": [
        ""
      ],
      "execution_count": null,
      "outputs": []
    },
    {
      "cell_type": "markdown",
      "metadata": {
        "id": "MR1gkqXOjzsl"
      },
      "source": [
        "#### 80. Consider an arbitrary array, write a function that extract a subpart with a fixed shape and centered on a given element (pad with a `fill` value when necessary) (★★★) \n",
        "(**hint**: minimum, maximum)"
      ]
    },
    {
      "cell_type": "code",
      "metadata": {
        "id": "XvKixGx0jzsm"
      },
      "source": [
        ""
      ],
      "execution_count": null,
      "outputs": []
    },
    {
      "cell_type": "markdown",
      "metadata": {
        "id": "_FTq9G3Rjzsm"
      },
      "source": [
        "#### 81. Consider an array Z = \\[1,2,3,4,5,6,7,8,9,10,11,12,13,14\\], how to generate an array R = \\[\\[1,2,3,4\\], \\[2,3,4,5\\], \\[3,4,5,6\\], ..., \\[11,12,13,14\\]\\]? (★★★) \n",
        "(**hint**: stride\\_tricks.as\\_strided)"
      ]
    },
    {
      "cell_type": "code",
      "metadata": {
        "id": "KmnK9I16jzsm",
        "colab": {
          "base_uri": "https://localhost:8080/"
        },
        "outputId": "1014a81c-90b5-4102-bca6-f3c661c5b8a5"
      },
      "source": [
        "arry = np.array([1,2,3,4,5,6,7,8,9,10,11,12,13,14]).astype(uint32)\n",
        "R = stride_tricks.as_strided(arry,(11,4),(4,4))\n",
        "R"
      ],
      "execution_count": 151,
      "outputs": [
        {
          "output_type": "execute_result",
          "data": {
            "text/plain": [
              "array([[ 1,  2,  3,  4],\n",
              "       [ 2,  3,  4,  5],\n",
              "       [ 3,  4,  5,  6],\n",
              "       [ 4,  5,  6,  7],\n",
              "       [ 5,  6,  7,  8],\n",
              "       [ 6,  7,  8,  9],\n",
              "       [ 7,  8,  9, 10],\n",
              "       [ 8,  9, 10, 11],\n",
              "       [ 9, 10, 11, 12],\n",
              "       [10, 11, 12, 13],\n",
              "       [11, 12, 13, 14]], dtype=uint32)"
            ]
          },
          "metadata": {},
          "execution_count": 151
        }
      ]
    },
    {
      "cell_type": "markdown",
      "metadata": {
        "id": "wMrDbJBHjzsm"
      },
      "source": [
        "#### 82. Compute a matrix rank (★★★) \n",
        "(**hint**: np.linalg.svd) (suggestion: np.linalg.svd)"
      ]
    },
    {
      "cell_type": "code",
      "metadata": {
        "id": "TdPIS0Jqjzsn",
        "colab": {
          "base_uri": "https://localhost:8080/"
        },
        "outputId": "dd5b3935-cb2b-4d63-8407-8d38e2a8748d"
      },
      "source": [
        "Z = np.random.uniform(0,1,(10,10))\n",
        "U, S, V = np.linalg.svd(Z)\n",
        "rank = np.sum(S > 1e-10)\n",
        "rank"
      ],
      "execution_count": 155,
      "outputs": [
        {
          "output_type": "execute_result",
          "data": {
            "text/plain": [
              "10"
            ]
          },
          "metadata": {},
          "execution_count": 155
        }
      ]
    },
    {
      "cell_type": "markdown",
      "metadata": {
        "id": "mN529w9Djzsn"
      },
      "source": [
        "#### 83. How to find the most frequent value in an array? \n",
        "(**hint**: np.bincount, argmax)"
      ]
    },
    {
      "cell_type": "code",
      "metadata": {
        "id": "225Hapfrjzsn",
        "colab": {
          "base_uri": "https://localhost:8080/"
        },
        "outputId": "0126a76c-7556-4bd9-a61c-c39d46202c22"
      },
      "source": [
        "a = np.random.randint(0,100,10)\n",
        "np.bincount(a).argmax()"
      ],
      "execution_count": 162,
      "outputs": [
        {
          "output_type": "execute_result",
          "data": {
            "text/plain": [
              "0"
            ]
          },
          "metadata": {},
          "execution_count": 162
        }
      ]
    },
    {
      "cell_type": "markdown",
      "metadata": {
        "id": "eohZtPHDjzsn"
      },
      "source": [
        "#### 84. Extract all the contiguous 3x3 blocks from a random 10x10 matrix (★★★) \n",
        "(**hint**: stride\\_tricks.as\\_strided)"
      ]
    },
    {
      "cell_type": "code",
      "metadata": {
        "id": "Vo4QcDVzjzsn",
        "colab": {
          "base_uri": "https://localhost:8080/"
        },
        "outputId": "ed0058f6-43ee-4840-c066-80a4a3b2b020"
      },
      "source": [
        "Z = np.random.randint(0,5,(10,10))\n",
        "n = 3\n",
        "i = 1 + (Z.shape[0]-3)\n",
        "j = 1 + (Z.shape[1]-3)\n",
        "C = stride_tricks.as_strided(Z, shape=(i, j, n, n), strides=Z.strides + Z.strides)\n",
        "C"
      ],
      "execution_count": 163,
      "outputs": [
        {
          "output_type": "execute_result",
          "data": {
            "text/plain": [
              "array([[[[0, 0, 1],\n",
              "         [1, 4, 3],\n",
              "         [1, 2, 4]],\n",
              "\n",
              "        [[0, 1, 4],\n",
              "         [4, 3, 0],\n",
              "         [2, 4, 4]],\n",
              "\n",
              "        [[1, 4, 0],\n",
              "         [3, 0, 0],\n",
              "         [4, 4, 2]],\n",
              "\n",
              "        [[4, 0, 0],\n",
              "         [0, 0, 4],\n",
              "         [4, 2, 3]],\n",
              "\n",
              "        [[0, 0, 2],\n",
              "         [0, 4, 0],\n",
              "         [2, 3, 2]],\n",
              "\n",
              "        [[0, 2, 0],\n",
              "         [4, 0, 4],\n",
              "         [3, 2, 1]],\n",
              "\n",
              "        [[2, 0, 0],\n",
              "         [0, 4, 4],\n",
              "         [2, 1, 0]],\n",
              "\n",
              "        [[0, 0, 2],\n",
              "         [4, 4, 4],\n",
              "         [1, 0, 1]]],\n",
              "\n",
              "\n",
              "       [[[1, 4, 3],\n",
              "         [1, 2, 4],\n",
              "         [2, 0, 3]],\n",
              "\n",
              "        [[4, 3, 0],\n",
              "         [2, 4, 4],\n",
              "         [0, 3, 1]],\n",
              "\n",
              "        [[3, 0, 0],\n",
              "         [4, 4, 2],\n",
              "         [3, 1, 1]],\n",
              "\n",
              "        [[0, 0, 4],\n",
              "         [4, 2, 3],\n",
              "         [1, 1, 2]],\n",
              "\n",
              "        [[0, 4, 0],\n",
              "         [2, 3, 2],\n",
              "         [1, 2, 0]],\n",
              "\n",
              "        [[4, 0, 4],\n",
              "         [3, 2, 1],\n",
              "         [2, 0, 0]],\n",
              "\n",
              "        [[0, 4, 4],\n",
              "         [2, 1, 0],\n",
              "         [0, 0, 2]],\n",
              "\n",
              "        [[4, 4, 4],\n",
              "         [1, 0, 1],\n",
              "         [0, 2, 1]]],\n",
              "\n",
              "\n",
              "       [[[1, 2, 4],\n",
              "         [2, 0, 3],\n",
              "         [2, 3, 3]],\n",
              "\n",
              "        [[2, 4, 4],\n",
              "         [0, 3, 1],\n",
              "         [3, 3, 4]],\n",
              "\n",
              "        [[4, 4, 2],\n",
              "         [3, 1, 1],\n",
              "         [3, 4, 2]],\n",
              "\n",
              "        [[4, 2, 3],\n",
              "         [1, 1, 2],\n",
              "         [4, 2, 2]],\n",
              "\n",
              "        [[2, 3, 2],\n",
              "         [1, 2, 0],\n",
              "         [2, 2, 3]],\n",
              "\n",
              "        [[3, 2, 1],\n",
              "         [2, 0, 0],\n",
              "         [2, 3, 1]],\n",
              "\n",
              "        [[2, 1, 0],\n",
              "         [0, 0, 2],\n",
              "         [3, 1, 0]],\n",
              "\n",
              "        [[1, 0, 1],\n",
              "         [0, 2, 1],\n",
              "         [1, 0, 1]]],\n",
              "\n",
              "\n",
              "       [[[2, 0, 3],\n",
              "         [2, 3, 3],\n",
              "         [4, 2, 4]],\n",
              "\n",
              "        [[0, 3, 1],\n",
              "         [3, 3, 4],\n",
              "         [2, 4, 1]],\n",
              "\n",
              "        [[3, 1, 1],\n",
              "         [3, 4, 2],\n",
              "         [4, 1, 4]],\n",
              "\n",
              "        [[1, 1, 2],\n",
              "         [4, 2, 2],\n",
              "         [1, 4, 1]],\n",
              "\n",
              "        [[1, 2, 0],\n",
              "         [2, 2, 3],\n",
              "         [4, 1, 0]],\n",
              "\n",
              "        [[2, 0, 0],\n",
              "         [2, 3, 1],\n",
              "         [1, 0, 0]],\n",
              "\n",
              "        [[0, 0, 2],\n",
              "         [3, 1, 0],\n",
              "         [0, 0, 3]],\n",
              "\n",
              "        [[0, 2, 1],\n",
              "         [1, 0, 1],\n",
              "         [0, 3, 0]]],\n",
              "\n",
              "\n",
              "       [[[2, 3, 3],\n",
              "         [4, 2, 4],\n",
              "         [3, 2, 3]],\n",
              "\n",
              "        [[3, 3, 4],\n",
              "         [2, 4, 1],\n",
              "         [2, 3, 4]],\n",
              "\n",
              "        [[3, 4, 2],\n",
              "         [4, 1, 4],\n",
              "         [3, 4, 4]],\n",
              "\n",
              "        [[4, 2, 2],\n",
              "         [1, 4, 1],\n",
              "         [4, 4, 0]],\n",
              "\n",
              "        [[2, 2, 3],\n",
              "         [4, 1, 0],\n",
              "         [4, 0, 2]],\n",
              "\n",
              "        [[2, 3, 1],\n",
              "         [1, 0, 0],\n",
              "         [0, 2, 4]],\n",
              "\n",
              "        [[3, 1, 0],\n",
              "         [0, 0, 3],\n",
              "         [2, 4, 2]],\n",
              "\n",
              "        [[1, 0, 1],\n",
              "         [0, 3, 0],\n",
              "         [4, 2, 4]]],\n",
              "\n",
              "\n",
              "       [[[4, 2, 4],\n",
              "         [3, 2, 3],\n",
              "         [1, 0, 0]],\n",
              "\n",
              "        [[2, 4, 1],\n",
              "         [2, 3, 4],\n",
              "         [0, 0, 4]],\n",
              "\n",
              "        [[4, 1, 4],\n",
              "         [3, 4, 4],\n",
              "         [0, 4, 3]],\n",
              "\n",
              "        [[1, 4, 1],\n",
              "         [4, 4, 0],\n",
              "         [4, 3, 3]],\n",
              "\n",
              "        [[4, 1, 0],\n",
              "         [4, 0, 2],\n",
              "         [3, 3, 2]],\n",
              "\n",
              "        [[1, 0, 0],\n",
              "         [0, 2, 4],\n",
              "         [3, 2, 4]],\n",
              "\n",
              "        [[0, 0, 3],\n",
              "         [2, 4, 2],\n",
              "         [2, 4, 3]],\n",
              "\n",
              "        [[0, 3, 0],\n",
              "         [4, 2, 4],\n",
              "         [4, 3, 4]]],\n",
              "\n",
              "\n",
              "       [[[3, 2, 3],\n",
              "         [1, 0, 0],\n",
              "         [0, 1, 1]],\n",
              "\n",
              "        [[2, 3, 4],\n",
              "         [0, 0, 4],\n",
              "         [1, 1, 0]],\n",
              "\n",
              "        [[3, 4, 4],\n",
              "         [0, 4, 3],\n",
              "         [1, 0, 1]],\n",
              "\n",
              "        [[4, 4, 0],\n",
              "         [4, 3, 3],\n",
              "         [0, 1, 3]],\n",
              "\n",
              "        [[4, 0, 2],\n",
              "         [3, 3, 2],\n",
              "         [1, 3, 2]],\n",
              "\n",
              "        [[0, 2, 4],\n",
              "         [3, 2, 4],\n",
              "         [3, 2, 1]],\n",
              "\n",
              "        [[2, 4, 2],\n",
              "         [2, 4, 3],\n",
              "         [2, 1, 3]],\n",
              "\n",
              "        [[4, 2, 4],\n",
              "         [4, 3, 4],\n",
              "         [1, 3, 2]]],\n",
              "\n",
              "\n",
              "       [[[1, 0, 0],\n",
              "         [0, 1, 1],\n",
              "         [3, 4, 3]],\n",
              "\n",
              "        [[0, 0, 4],\n",
              "         [1, 1, 0],\n",
              "         [4, 3, 0]],\n",
              "\n",
              "        [[0, 4, 3],\n",
              "         [1, 0, 1],\n",
              "         [3, 0, 1]],\n",
              "\n",
              "        [[4, 3, 3],\n",
              "         [0, 1, 3],\n",
              "         [0, 1, 2]],\n",
              "\n",
              "        [[3, 3, 2],\n",
              "         [1, 3, 2],\n",
              "         [1, 2, 3]],\n",
              "\n",
              "        [[3, 2, 4],\n",
              "         [3, 2, 1],\n",
              "         [2, 3, 4]],\n",
              "\n",
              "        [[2, 4, 3],\n",
              "         [2, 1, 3],\n",
              "         [3, 4, 0]],\n",
              "\n",
              "        [[4, 3, 4],\n",
              "         [1, 3, 2],\n",
              "         [4, 0, 1]]]])"
            ]
          },
          "metadata": {},
          "execution_count": 163
        }
      ]
    },
    {
      "cell_type": "markdown",
      "metadata": {
        "id": "DNt3KZ26jzsn"
      },
      "source": [
        "#### 85. Create a 2D array subclass such that Z\\[i,j\\] == Z\\[j,i\\] (★★★) \n",
        "(**hint**: class method)"
      ]
    },
    {
      "cell_type": "code",
      "metadata": {
        "id": "0cEUOklkjzso",
        "colab": {
          "base_uri": "https://localhost:8080/"
        },
        "outputId": "d1a481bf-c163-4f47-fad4-6b4cd74631bc"
      },
      "source": [
        "class Symetric(np.ndarray):\n",
        "    def __setitem__(self, index, value):\n",
        "        i,j = index\n",
        "        super(Symetric, self).__setitem__((i,j), value)\n",
        "        super(Symetric, self).__setitem__((j,i), value)\n",
        "\n",
        "def symetric(Z):\n",
        "    return np.asarray(Z + Z.T - np.diag(Z.diagonal())).view(Symetric)\n",
        "\n",
        "S = symetric(np.random.randint(0,10,(5,5)))\n",
        "S[2,3] = 42\n",
        "S"
      ],
      "execution_count": 165,
      "outputs": [
        {
          "output_type": "execute_result",
          "data": {
            "text/plain": [
              "Symetric([[ 1, 13,  9,  8, 11],\n",
              "          [13,  1,  2,  5,  6],\n",
              "          [ 9,  2,  2, 42,  6],\n",
              "          [ 8,  5, 42,  1,  1],\n",
              "          [11,  6,  6,  1,  6]])"
            ]
          },
          "metadata": {},
          "execution_count": 165
        }
      ]
    },
    {
      "cell_type": "markdown",
      "metadata": {
        "id": "ppSL9IJ2jzso"
      },
      "source": [
        "#### 86. Consider a set of p matrices wich shape (n,n) and a set of p vectors with shape (n,1). How to compute the sum of of the p matrix products at once? (result has shape (n,1)) (★★★) \n",
        "(**hint**: np.tensordot)"
      ]
    },
    {
      "cell_type": "code",
      "metadata": {
        "id": "P-lW1E_ijzso",
        "colab": {
          "base_uri": "https://localhost:8080/"
        },
        "outputId": "7b589fec-6ce2-42e2-aa98-2b823225aa7b"
      },
      "source": [
        "p, n = 10, 20\n",
        "M = np.ones((p,n,n))\n",
        "V = np.ones((p,n,1))\n",
        "S = np.tensordot(M, V, axes=[[0, 2], [0, 1]])\n",
        "S"
      ],
      "execution_count": 166,
      "outputs": [
        {
          "output_type": "execute_result",
          "data": {
            "text/plain": [
              "array([[200.],\n",
              "       [200.],\n",
              "       [200.],\n",
              "       [200.],\n",
              "       [200.],\n",
              "       [200.],\n",
              "       [200.],\n",
              "       [200.],\n",
              "       [200.],\n",
              "       [200.],\n",
              "       [200.],\n",
              "       [200.],\n",
              "       [200.],\n",
              "       [200.],\n",
              "       [200.],\n",
              "       [200.],\n",
              "       [200.],\n",
              "       [200.],\n",
              "       [200.],\n",
              "       [200.]])"
            ]
          },
          "metadata": {},
          "execution_count": 166
        }
      ]
    },
    {
      "cell_type": "markdown",
      "metadata": {
        "id": "mu-FY0mBjzso"
      },
      "source": [
        "#### 87. Consider a 16x16 array, how to get the block-sum (block size is 4x4)? (★★★) \n",
        "(**hint**: np.add.reduceat)"
      ]
    },
    {
      "cell_type": "code",
      "metadata": {
        "id": "5-WRmQacjzsq",
        "colab": {
          "base_uri": "https://localhost:8080/"
        },
        "outputId": "a70ea207-0059-4994-9328-6b0a8be6ce85"
      },
      "source": [
        "Z = np.ones((16,16))\n",
        "k = 4\n",
        "S = np.add.reduceat(np.add.reduceat(Z, np.arange(0, Z.shape[0], k), axis=0),np.arange(0, Z.shape[1], k), axis=1)\n",
        "print(S)"
      ],
      "execution_count": 170,
      "outputs": [
        {
          "output_type": "stream",
          "name": "stdout",
          "text": [
            "[[16. 16. 16. 16.]\n",
            " [16. 16. 16. 16.]\n",
            " [16. 16. 16. 16.]\n",
            " [16. 16. 16. 16.]]\n"
          ]
        }
      ]
    },
    {
      "cell_type": "markdown",
      "metadata": {
        "id": "jo1x802bjzsq"
      },
      "source": [
        "#### 88. How to implement the Game of Life using numpy arrays? (★★★)"
      ]
    },
    {
      "cell_type": "code",
      "metadata": {
        "id": "kpa0IKs7jzsq"
      },
      "source": [
        ""
      ],
      "execution_count": null,
      "outputs": []
    },
    {
      "cell_type": "markdown",
      "metadata": {
        "id": "7aEsJ0oLjzsq"
      },
      "source": [
        "#### 89. How to get the n largest values of an array (★★★) \n",
        "(**hint**: np.argsort | np.argpartition)"
      ]
    },
    {
      "cell_type": "code",
      "metadata": {
        "id": "6ol30uOnjzsr",
        "colab": {
          "base_uri": "https://localhost:8080/"
        },
        "outputId": "10abadab-30e2-4f27-9a95-8470491307aa"
      },
      "source": [
        "Z = np.arange(10000)\n",
        "np.random.shuffle(Z)\n",
        "n = 8\n",
        "\n",
        "print (Z[np.argsort(Z)[-n:]])\n"
      ],
      "execution_count": 175,
      "outputs": [
        {
          "output_type": "stream",
          "name": "stdout",
          "text": [
            "[9992 9993 9994 9995 9996 9997 9998 9999]\n"
          ]
        }
      ]
    },
    {
      "cell_type": "code",
      "metadata": {
        "colab": {
          "base_uri": "https://localhost:8080/"
        },
        "id": "Q2ZxW6zZLdxI",
        "outputId": "0291b7f6-cc40-4f70-8f90-6c96c2177337"
      },
      "source": [
        "\n",
        "print (Z[np.argpartition(-Z,n)[:n]])"
      ],
      "execution_count": 176,
      "outputs": [
        {
          "output_type": "stream",
          "name": "stdout",
          "text": [
            "[9999 9998 9997 9996 9995 9994 9992 9993]\n"
          ]
        }
      ]
    },
    {
      "cell_type": "markdown",
      "metadata": {
        "id": "MwFbLbl_jzsr"
      },
      "source": [
        "#### 90. Given an arbitrary number of vectors, build the cartesian product (every combinations of every item) (★★★) \n",
        "(**hint**: np.indices)"
      ]
    },
    {
      "cell_type": "code",
      "metadata": {
        "scrolled": true,
        "id": "2Zg0GeCdjzsr"
      },
      "source": [
        ""
      ],
      "execution_count": null,
      "outputs": []
    },
    {
      "cell_type": "markdown",
      "metadata": {
        "id": "DPqB7yndjzsr"
      },
      "source": [
        "#### 91. How to create a record array from a regular array? (★★★) \n",
        "(**hint**: np.core.records.fromarrays)"
      ]
    },
    {
      "cell_type": "code",
      "metadata": {
        "id": "dKuoiItrjzsr"
      },
      "source": [
        ""
      ],
      "execution_count": null,
      "outputs": []
    },
    {
      "cell_type": "markdown",
      "metadata": {
        "id": "a0TRj_qBjzsr"
      },
      "source": [
        "#### 92. Consider a large vector Z, compute Z to the power of 3 using 3 different methods (★★★) \n",
        "(**hint**: np.power, \\*, np.einsum)"
      ]
    },
    {
      "cell_type": "code",
      "metadata": {
        "id": "15QPSuR8jzsr"
      },
      "source": [
        ""
      ],
      "execution_count": null,
      "outputs": []
    },
    {
      "cell_type": "markdown",
      "metadata": {
        "id": "0wEmKIjBjzss"
      },
      "source": [
        "#### 93. Consider two arrays A and B of shape (8,3) and (2,2). How to find rows of A that contain elements of each row of B regardless of the order of the elements in B? (★★★) \n",
        "(**hint**: np.where)"
      ]
    },
    {
      "cell_type": "code",
      "metadata": {
        "id": "rrYuJzbPjzss"
      },
      "source": [
        ""
      ],
      "execution_count": null,
      "outputs": []
    },
    {
      "cell_type": "markdown",
      "metadata": {
        "id": "JikQHIB7jzss"
      },
      "source": [
        "#### 94. Considering a 10x3 matrix, extract rows with unequal values (e.g. \\[2,2,3\\]) (★★★)"
      ]
    },
    {
      "cell_type": "code",
      "metadata": {
        "id": "iEQZj580jzss"
      },
      "source": [
        ""
      ],
      "execution_count": null,
      "outputs": []
    },
    {
      "cell_type": "markdown",
      "metadata": {
        "id": "3iC_KiGUjzss"
      },
      "source": [
        "#### 95. Convert a vector of ints into a matrix binary representation (★★★) \n",
        "(**hint**: np.unpackbits)"
      ]
    },
    {
      "cell_type": "code",
      "metadata": {
        "id": "WOJZfsBEjzss"
      },
      "source": [
        ""
      ],
      "execution_count": null,
      "outputs": []
    },
    {
      "cell_type": "markdown",
      "metadata": {
        "id": "vY3HIr5mjzss"
      },
      "source": [
        "#### 96. Given a two dimensional array, how to extract unique rows? (★★★) \n",
        "(**hint**: np.ascontiguousarray)"
      ]
    },
    {
      "cell_type": "code",
      "metadata": {
        "id": "jL9iRYuxjzst"
      },
      "source": [
        ""
      ],
      "execution_count": null,
      "outputs": []
    },
    {
      "cell_type": "markdown",
      "metadata": {
        "id": "3ni-6Watjzst"
      },
      "source": [
        "#### 97. Considering 2 vectors A & B, write the einsum equivalent of inner, outer, sum, and mul function (★★★) \n",
        "(**hint**: np.einsum)"
      ]
    },
    {
      "cell_type": "code",
      "metadata": {
        "id": "HePgIUUijzst"
      },
      "source": [
        ""
      ],
      "execution_count": null,
      "outputs": []
    },
    {
      "cell_type": "markdown",
      "metadata": {
        "id": "dme-5axujzst"
      },
      "source": [
        "#### 98. Considering a path described by two vectors (X,Y), how to sample it using equidistant samples (★★★)? \n",
        "(**hint**: np.cumsum, np.interp)"
      ]
    },
    {
      "cell_type": "code",
      "metadata": {
        "collapsed": true,
        "id": "AiFj4usIjzst"
      },
      "source": [
        ""
      ],
      "execution_count": null,
      "outputs": []
    },
    {
      "cell_type": "markdown",
      "metadata": {
        "id": "qCiHGCMGjzst"
      },
      "source": [
        "#### 99. Given an integer n and a 2D array X, select from X the rows which can be interpreted as draws from a multinomial distribution with n degrees, i.e., the rows which only contain integers and which sum to n. (★★★) \n",
        "(**hint**: np.logical\\_and.reduce, np.mod)"
      ]
    },
    {
      "cell_type": "code",
      "metadata": {
        "id": "A5VPHqojjzst"
      },
      "source": [
        ""
      ],
      "execution_count": null,
      "outputs": []
    },
    {
      "cell_type": "markdown",
      "metadata": {
        "id": "mab9z_Erjzst"
      },
      "source": [
        "#### 100. Compute bootstrapped 95% confidence intervals for the mean of a 1D array X (i.e., resample the elements of an array with replacement N times, compute the mean of each sample, and then compute percentiles over the means). (★★★) \n",
        "(**hint**: np.percentile)"
      ]
    },
    {
      "cell_type": "code",
      "metadata": {
        "id": "K3XokAoIjzsu"
      },
      "source": [
        ""
      ],
      "execution_count": null,
      "outputs": []
    }
  ]
}